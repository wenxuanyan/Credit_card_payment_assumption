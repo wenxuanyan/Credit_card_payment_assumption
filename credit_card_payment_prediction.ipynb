{
 "cells": [
  {
   "cell_type": "markdown",
   "metadata": {
    "id": "ZpvAo7MRpqUe"
   },
   "source": [
    "https://www.kaggle.com/datasets/jishnukoliyadan/taiwan-default-credit-card-clients\n",
    "\n",
    "\n"
   ]
  },
  {
   "cell_type": "markdown",
   "metadata": {
    "id": "cF33ZizUAljV"
   },
   "source": [
    "$\\color{red}{\\text{1. Explore}}$"
   ]
  },
  {
   "cell_type": "markdown",
   "metadata": {
    "id": "6G5UiLlg8ocR"
   },
   "source": [
    "1. \n",
    "  1. $\\color{red}{\\text{Load the dataset and use only column \"LIMIT_BAL\", \"SEX\", \"EDUCATION\", \"MARRIAGE\", \"AGE\", and \"default payment next month\".}}$"
   ]
  },
  {
   "cell_type": "code",
   "execution_count": 1,
   "metadata": {
    "colab": {
     "base_uri": "https://localhost:8080/",
     "height": 73
    },
    "id": "Dk_DwpPoQx98",
    "outputId": "24438991-7256-48ac-d875-69adf2987f25"
   },
   "outputs": [
    {
     "data": {
      "text/html": [
       "\n",
       "     <input type=\"file\" id=\"files-496e90fe-19b8-41fd-939f-6e9262d12d7b\" name=\"files[]\" multiple disabled\n",
       "        style=\"border:none\" />\n",
       "     <output id=\"result-496e90fe-19b8-41fd-939f-6e9262d12d7b\">\n",
       "      Upload widget is only available when the cell has been executed in the\n",
       "      current browser session. Please rerun this cell to enable.\n",
       "      </output>\n",
       "      <script>// Copyright 2017 Google LLC\n",
       "//\n",
       "// Licensed under the Apache License, Version 2.0 (the \"License\");\n",
       "// you may not use this file except in compliance with the License.\n",
       "// You may obtain a copy of the License at\n",
       "//\n",
       "//      http://www.apache.org/licenses/LICENSE-2.0\n",
       "//\n",
       "// Unless required by applicable law or agreed to in writing, software\n",
       "// distributed under the License is distributed on an \"AS IS\" BASIS,\n",
       "// WITHOUT WARRANTIES OR CONDITIONS OF ANY KIND, either express or implied.\n",
       "// See the License for the specific language governing permissions and\n",
       "// limitations under the License.\n",
       "\n",
       "/**\n",
       " * @fileoverview Helpers for google.colab Python module.\n",
       " */\n",
       "(function(scope) {\n",
       "function span(text, styleAttributes = {}) {\n",
       "  const element = document.createElement('span');\n",
       "  element.textContent = text;\n",
       "  for (const key of Object.keys(styleAttributes)) {\n",
       "    element.style[key] = styleAttributes[key];\n",
       "  }\n",
       "  return element;\n",
       "}\n",
       "\n",
       "// Max number of bytes which will be uploaded at a time.\n",
       "const MAX_PAYLOAD_SIZE = 100 * 1024;\n",
       "\n",
       "function _uploadFiles(inputId, outputId) {\n",
       "  const steps = uploadFilesStep(inputId, outputId);\n",
       "  const outputElement = document.getElementById(outputId);\n",
       "  // Cache steps on the outputElement to make it available for the next call\n",
       "  // to uploadFilesContinue from Python.\n",
       "  outputElement.steps = steps;\n",
       "\n",
       "  return _uploadFilesContinue(outputId);\n",
       "}\n",
       "\n",
       "// This is roughly an async generator (not supported in the browser yet),\n",
       "// where there are multiple asynchronous steps and the Python side is going\n",
       "// to poll for completion of each step.\n",
       "// This uses a Promise to block the python side on completion of each step,\n",
       "// then passes the result of the previous step as the input to the next step.\n",
       "function _uploadFilesContinue(outputId) {\n",
       "  const outputElement = document.getElementById(outputId);\n",
       "  const steps = outputElement.steps;\n",
       "\n",
       "  const next = steps.next(outputElement.lastPromiseValue);\n",
       "  return Promise.resolve(next.value.promise).then((value) => {\n",
       "    // Cache the last promise value to make it available to the next\n",
       "    // step of the generator.\n",
       "    outputElement.lastPromiseValue = value;\n",
       "    return next.value.response;\n",
       "  });\n",
       "}\n",
       "\n",
       "/**\n",
       " * Generator function which is called between each async step of the upload\n",
       " * process.\n",
       " * @param {string} inputId Element ID of the input file picker element.\n",
       " * @param {string} outputId Element ID of the output display.\n",
       " * @return {!Iterable<!Object>} Iterable of next steps.\n",
       " */\n",
       "function* uploadFilesStep(inputId, outputId) {\n",
       "  const inputElement = document.getElementById(inputId);\n",
       "  inputElement.disabled = false;\n",
       "\n",
       "  const outputElement = document.getElementById(outputId);\n",
       "  outputElement.innerHTML = '';\n",
       "\n",
       "  const pickedPromise = new Promise((resolve) => {\n",
       "    inputElement.addEventListener('change', (e) => {\n",
       "      resolve(e.target.files);\n",
       "    });\n",
       "  });\n",
       "\n",
       "  const cancel = document.createElement('button');\n",
       "  inputElement.parentElement.appendChild(cancel);\n",
       "  cancel.textContent = 'Cancel upload';\n",
       "  const cancelPromise = new Promise((resolve) => {\n",
       "    cancel.onclick = () => {\n",
       "      resolve(null);\n",
       "    };\n",
       "  });\n",
       "\n",
       "  // Wait for the user to pick the files.\n",
       "  const files = yield {\n",
       "    promise: Promise.race([pickedPromise, cancelPromise]),\n",
       "    response: {\n",
       "      action: 'starting',\n",
       "    }\n",
       "  };\n",
       "\n",
       "  cancel.remove();\n",
       "\n",
       "  // Disable the input element since further picks are not allowed.\n",
       "  inputElement.disabled = true;\n",
       "\n",
       "  if (!files) {\n",
       "    return {\n",
       "      response: {\n",
       "        action: 'complete',\n",
       "      }\n",
       "    };\n",
       "  }\n",
       "\n",
       "  for (const file of files) {\n",
       "    const li = document.createElement('li');\n",
       "    li.append(span(file.name, {fontWeight: 'bold'}));\n",
       "    li.append(span(\n",
       "        `(${file.type || 'n/a'}) - ${file.size} bytes, ` +\n",
       "        `last modified: ${\n",
       "            file.lastModifiedDate ? file.lastModifiedDate.toLocaleDateString() :\n",
       "                                    'n/a'} - `));\n",
       "    const percent = span('0% done');\n",
       "    li.appendChild(percent);\n",
       "\n",
       "    outputElement.appendChild(li);\n",
       "\n",
       "    const fileDataPromise = new Promise((resolve) => {\n",
       "      const reader = new FileReader();\n",
       "      reader.onload = (e) => {\n",
       "        resolve(e.target.result);\n",
       "      };\n",
       "      reader.readAsArrayBuffer(file);\n",
       "    });\n",
       "    // Wait for the data to be ready.\n",
       "    let fileData = yield {\n",
       "      promise: fileDataPromise,\n",
       "      response: {\n",
       "        action: 'continue',\n",
       "      }\n",
       "    };\n",
       "\n",
       "    // Use a chunked sending to avoid message size limits. See b/62115660.\n",
       "    let position = 0;\n",
       "    do {\n",
       "      const length = Math.min(fileData.byteLength - position, MAX_PAYLOAD_SIZE);\n",
       "      const chunk = new Uint8Array(fileData, position, length);\n",
       "      position += length;\n",
       "\n",
       "      const base64 = btoa(String.fromCharCode.apply(null, chunk));\n",
       "      yield {\n",
       "        response: {\n",
       "          action: 'append',\n",
       "          file: file.name,\n",
       "          data: base64,\n",
       "        },\n",
       "      };\n",
       "\n",
       "      let percentDone = fileData.byteLength === 0 ?\n",
       "          100 :\n",
       "          Math.round((position / fileData.byteLength) * 100);\n",
       "      percent.textContent = `${percentDone}% done`;\n",
       "\n",
       "    } while (position < fileData.byteLength);\n",
       "  }\n",
       "\n",
       "  // All done.\n",
       "  yield {\n",
       "    response: {\n",
       "      action: 'complete',\n",
       "    }\n",
       "  };\n",
       "}\n",
       "\n",
       "scope.google = scope.google || {};\n",
       "scope.google.colab = scope.google.colab || {};\n",
       "scope.google.colab._files = {\n",
       "  _uploadFiles,\n",
       "  _uploadFilesContinue,\n",
       "};\n",
       "})(self);\n",
       "</script> "
      ],
      "text/plain": [
       "<IPython.core.display.HTML object>"
      ]
     },
     "metadata": {},
     "output_type": "display_data"
    },
    {
     "name": "stdout",
     "output_type": "stream",
     "text": [
      "Saving default_of_credit_card_clients.csv to default_of_credit_card_clients.csv\n"
     ]
    }
   ],
   "source": [
    "from google.colab import files\n",
    "uploaded = files.upload()"
   ]
  },
  {
   "cell_type": "code",
   "execution_count": 2,
   "metadata": {
    "id": "wEfeyEvs6jqs"
   },
   "outputs": [],
   "source": [
    "import numpy as np\n",
    "import matplotlib.pyplot as plt\n",
    "import pandas as pd\n",
    "import io\n",
    "import seaborn as sns"
   ]
  },
  {
   "cell_type": "code",
   "execution_count": 3,
   "metadata": {
    "colab": {
     "base_uri": "https://localhost:8080/",
     "height": 206
    },
    "id": "x284VBqb0t-R",
    "outputId": "5d7382f4-a0c6-4b0a-e25b-6e1ea4d3a973"
   },
   "outputs": [
    {
     "data": {
      "text/html": [
       "\n",
       "  <div id=\"df-cb377942-4211-4a78-aca6-ad3f65408df3\">\n",
       "    <div class=\"colab-df-container\">\n",
       "      <div>\n",
       "<style scoped>\n",
       "    .dataframe tbody tr th:only-of-type {\n",
       "        vertical-align: middle;\n",
       "    }\n",
       "\n",
       "    .dataframe tbody tr th {\n",
       "        vertical-align: top;\n",
       "    }\n",
       "\n",
       "    .dataframe thead th {\n",
       "        text-align: right;\n",
       "    }\n",
       "</style>\n",
       "<table border=\"1\" class=\"dataframe\">\n",
       "  <thead>\n",
       "    <tr style=\"text-align: right;\">\n",
       "      <th></th>\n",
       "      <th>LIMIT_BAL</th>\n",
       "      <th>SEX</th>\n",
       "      <th>EDUCATION</th>\n",
       "      <th>MARRIAGE</th>\n",
       "      <th>AGE</th>\n",
       "      <th>default payment next month</th>\n",
       "    </tr>\n",
       "  </thead>\n",
       "  <tbody>\n",
       "    <tr>\n",
       "      <th>0</th>\n",
       "      <td>20000</td>\n",
       "      <td>2</td>\n",
       "      <td>2</td>\n",
       "      <td>1</td>\n",
       "      <td>24</td>\n",
       "      <td>1</td>\n",
       "    </tr>\n",
       "    <tr>\n",
       "      <th>1</th>\n",
       "      <td>120000</td>\n",
       "      <td>2</td>\n",
       "      <td>2</td>\n",
       "      <td>2</td>\n",
       "      <td>26</td>\n",
       "      <td>1</td>\n",
       "    </tr>\n",
       "    <tr>\n",
       "      <th>2</th>\n",
       "      <td>90000</td>\n",
       "      <td>2</td>\n",
       "      <td>2</td>\n",
       "      <td>2</td>\n",
       "      <td>34</td>\n",
       "      <td>0</td>\n",
       "    </tr>\n",
       "    <tr>\n",
       "      <th>3</th>\n",
       "      <td>50000</td>\n",
       "      <td>2</td>\n",
       "      <td>2</td>\n",
       "      <td>1</td>\n",
       "      <td>37</td>\n",
       "      <td>0</td>\n",
       "    </tr>\n",
       "    <tr>\n",
       "      <th>4</th>\n",
       "      <td>50000</td>\n",
       "      <td>1</td>\n",
       "      <td>2</td>\n",
       "      <td>1</td>\n",
       "      <td>57</td>\n",
       "      <td>0</td>\n",
       "    </tr>\n",
       "  </tbody>\n",
       "</table>\n",
       "</div>\n",
       "      <button class=\"colab-df-convert\" onclick=\"convertToInteractive('df-cb377942-4211-4a78-aca6-ad3f65408df3')\"\n",
       "              title=\"Convert this dataframe to an interactive table.\"\n",
       "              style=\"display:none;\">\n",
       "        \n",
       "  <svg xmlns=\"http://www.w3.org/2000/svg\" height=\"24px\"viewBox=\"0 0 24 24\"\n",
       "       width=\"24px\">\n",
       "    <path d=\"M0 0h24v24H0V0z\" fill=\"none\"/>\n",
       "    <path d=\"M18.56 5.44l.94 2.06.94-2.06 2.06-.94-2.06-.94-.94-2.06-.94 2.06-2.06.94zm-11 1L8.5 8.5l.94-2.06 2.06-.94-2.06-.94L8.5 2.5l-.94 2.06-2.06.94zm10 10l.94 2.06.94-2.06 2.06-.94-2.06-.94-.94-2.06-.94 2.06-2.06.94z\"/><path d=\"M17.41 7.96l-1.37-1.37c-.4-.4-.92-.59-1.43-.59-.52 0-1.04.2-1.43.59L10.3 9.45l-7.72 7.72c-.78.78-.78 2.05 0 2.83L4 21.41c.39.39.9.59 1.41.59.51 0 1.02-.2 1.41-.59l7.78-7.78 2.81-2.81c.8-.78.8-2.07 0-2.86zM5.41 20L4 18.59l7.72-7.72 1.47 1.35L5.41 20z\"/>\n",
       "  </svg>\n",
       "      </button>\n",
       "      \n",
       "  <style>\n",
       "    .colab-df-container {\n",
       "      display:flex;\n",
       "      flex-wrap:wrap;\n",
       "      gap: 12px;\n",
       "    }\n",
       "\n",
       "    .colab-df-convert {\n",
       "      background-color: #E8F0FE;\n",
       "      border: none;\n",
       "      border-radius: 50%;\n",
       "      cursor: pointer;\n",
       "      display: none;\n",
       "      fill: #1967D2;\n",
       "      height: 32px;\n",
       "      padding: 0 0 0 0;\n",
       "      width: 32px;\n",
       "    }\n",
       "\n",
       "    .colab-df-convert:hover {\n",
       "      background-color: #E2EBFA;\n",
       "      box-shadow: 0px 1px 2px rgba(60, 64, 67, 0.3), 0px 1px 3px 1px rgba(60, 64, 67, 0.15);\n",
       "      fill: #174EA6;\n",
       "    }\n",
       "\n",
       "    [theme=dark] .colab-df-convert {\n",
       "      background-color: #3B4455;\n",
       "      fill: #D2E3FC;\n",
       "    }\n",
       "\n",
       "    [theme=dark] .colab-df-convert:hover {\n",
       "      background-color: #434B5C;\n",
       "      box-shadow: 0px 1px 3px 1px rgba(0, 0, 0, 0.15);\n",
       "      filter: drop-shadow(0px 1px 2px rgba(0, 0, 0, 0.3));\n",
       "      fill: #FFFFFF;\n",
       "    }\n",
       "  </style>\n",
       "\n",
       "      <script>\n",
       "        const buttonEl =\n",
       "          document.querySelector('#df-cb377942-4211-4a78-aca6-ad3f65408df3 button.colab-df-convert');\n",
       "        buttonEl.style.display =\n",
       "          google.colab.kernel.accessAllowed ? 'block' : 'none';\n",
       "\n",
       "        async function convertToInteractive(key) {\n",
       "          const element = document.querySelector('#df-cb377942-4211-4a78-aca6-ad3f65408df3');\n",
       "          const dataTable =\n",
       "            await google.colab.kernel.invokeFunction('convertToInteractive',\n",
       "                                                     [key], {});\n",
       "          if (!dataTable) return;\n",
       "\n",
       "          const docLinkHtml = 'Like what you see? Visit the ' +\n",
       "            '<a target=\"_blank\" href=https://colab.research.google.com/notebooks/data_table.ipynb>data table notebook</a>'\n",
       "            + ' to learn more about interactive tables.';\n",
       "          element.innerHTML = '';\n",
       "          dataTable['output_type'] = 'display_data';\n",
       "          await google.colab.output.renderOutput(dataTable, element);\n",
       "          const docLink = document.createElement('div');\n",
       "          docLink.innerHTML = docLinkHtml;\n",
       "          element.appendChild(docLink);\n",
       "        }\n",
       "      </script>\n",
       "    </div>\n",
       "  </div>\n",
       "  "
      ],
      "text/plain": [
       "   LIMIT_BAL  SEX  EDUCATION  MARRIAGE  AGE  default payment next month\n",
       "0      20000    2          2         1   24                           1\n",
       "1     120000    2          2         2   26                           1\n",
       "2      90000    2          2         2   34                           0\n",
       "3      50000    2          2         1   37                           0\n",
       "4      50000    1          2         1   57                           0"
      ]
     },
     "execution_count": 3,
     "metadata": {},
     "output_type": "execute_result"
    }
   ],
   "source": [
    "df = pd.read_csv(io.BytesIO(uploaded['default_of_credit_card_clients.csv']))\n",
    "df1 = df[['LIMIT_BAL', 'SEX','EDUCATION','MARRIAGE','AGE','default payment next month']]\n",
    "df1.head()"
   ]
  },
  {
   "cell_type": "code",
   "execution_count": 4,
   "metadata": {
    "colab": {
     "base_uri": "https://localhost:8080/"
    },
    "id": "OinqRMsg1DBo",
    "outputId": "f42700d1-649d-437c-fc38-a6c822a454b5"
   },
   "outputs": [
    {
     "name": "stdout",
     "output_type": "stream",
     "text": [
      "<class 'pandas.core.frame.DataFrame'>\n",
      "RangeIndex: 30000 entries, 0 to 29999\n",
      "Data columns (total 6 columns):\n",
      " #   Column                      Non-Null Count  Dtype\n",
      "---  ------                      --------------  -----\n",
      " 0   LIMIT_BAL                   30000 non-null  int64\n",
      " 1   SEX                         30000 non-null  int64\n",
      " 2   EDUCATION                   30000 non-null  int64\n",
      " 3   MARRIAGE                    30000 non-null  int64\n",
      " 4   AGE                         30000 non-null  int64\n",
      " 5   default payment next month  30000 non-null  int64\n",
      "dtypes: int64(6)\n",
      "memory usage: 1.4 MB\n"
     ]
    }
   ],
   "source": [
    "df1.info()"
   ]
  },
  {
   "cell_type": "markdown",
   "metadata": {
    "id": "8u2egdaF82Ly"
   },
   "source": [
    "1. \n",
    "  2.  $\\color{red}{\\text{identify the categorical features: SEX, MARRIAGE,EDUCATION why? }}$ because sex represent female(2), male(1). So there are only two values for this variable, thus treat it as categorical. MARRIAGE represent marriage status, 1 = married; 2 = single; 3 = others, so treat this column as categorical. EDUCATION represent education level, 1 = graduate school; 2 = university; 3 = high school; 4 = others. Same reasoning as previous two columns.\n",
    "\n",
    " "
   ]
  },
  {
   "cell_type": "code",
   "execution_count": 5,
   "metadata": {
    "colab": {
     "base_uri": "https://localhost:8080/"
    },
    "id": "F04Xyqgq1MBJ",
    "outputId": "b039ad2e-aa7f-446d-9c4b-e81ffdb12b3e"
   },
   "outputs": [
    {
     "data": {
      "text/plain": [
       "2    18112\n",
       "1    11888\n",
       "Name: SEX, dtype: int64"
      ]
     },
     "execution_count": 5,
     "metadata": {},
     "output_type": "execute_result"
    }
   ],
   "source": [
    "df1[\"SEX\"].value_counts()"
   ]
  },
  {
   "cell_type": "code",
   "execution_count": 6,
   "metadata": {
    "colab": {
     "base_uri": "https://localhost:8080/"
    },
    "id": "kRCRDn8C2Sle",
    "outputId": "149d3bff-cbf9-4a24-ff6e-ab5bb718813d"
   },
   "outputs": [
    {
     "data": {
      "text/plain": [
       "2    15964\n",
       "1    13659\n",
       "3      323\n",
       "0       54\n",
       "Name: MARRIAGE, dtype: int64"
      ]
     },
     "execution_count": 6,
     "metadata": {},
     "output_type": "execute_result"
    }
   ],
   "source": [
    "df1[\"MARRIAGE\"].value_counts()"
   ]
  },
  {
   "cell_type": "code",
   "execution_count": 7,
   "metadata": {
    "colab": {
     "base_uri": "https://localhost:8080/"
    },
    "id": "h1aAYuil2Wur",
    "outputId": "e25cf645-820c-41d3-ad8e-69fb4fbcf17a"
   },
   "outputs": [
    {
     "data": {
      "text/plain": [
       "2    14030\n",
       "1    10585\n",
       "3     4917\n",
       "5      280\n",
       "4      123\n",
       "6       51\n",
       "0       14\n",
       "Name: EDUCATION, dtype: int64"
      ]
     },
     "execution_count": 7,
     "metadata": {},
     "output_type": "execute_result"
    }
   ],
   "source": [
    "df1[\"EDUCATION\"].value_counts()"
   ]
  },
  {
   "cell_type": "markdown",
   "metadata": {
    "id": "t5EqUyU39bKw"
   },
   "source": [
    "1. \n",
    "  3. $\\color{red}{\\text{produce the pairwise scatter plot among the column we choose}}$"
   ]
  },
  {
   "cell_type": "code",
   "execution_count": 8,
   "metadata": {
    "id": "2GR8BostN1cX"
   },
   "outputs": [],
   "source": [
    "df2 = df[['LIMIT_BAL','AGE']]"
   ]
  },
  {
   "cell_type": "code",
   "execution_count": 9,
   "metadata": {
    "colab": {
     "base_uri": "https://localhost:8080/",
     "height": 391
    },
    "id": "eDeADyj82k8L",
    "outputId": "d9168581-c825-43c5-8361-c70e82fc12a0"
   },
   "outputs": [
    {
     "data": {
      "text/plain": [
       "<seaborn.axisgrid.PairGrid at 0x7fe5bda84ed0>"
      ]
     },
     "execution_count": 9,
     "metadata": {},
     "output_type": "execute_result"
    },
    {
     "data": {
      "image/png": "[encoded data removed]",
      "text/plain": [
       "<Figure size 360x360 with 6 Axes>"
      ]
     },
     "metadata": {
      "needs_background": "light"
     },
     "output_type": "display_data"
    }
   ],
   "source": [
    "#only doing scatterplot between numerical columns and y variables\n",
    "sns.pairplot(df2)"
   ]
  },
  {
   "cell_type": "code",
   "execution_count": 10,
   "metadata": {
    "colab": {
     "base_uri": "https://localhost:8080/",
     "height": 49
    },
    "id": "nzNqrzpGCguD",
    "outputId": "a82f0c5a-01d2-4d34-8b22-60934bee8637"
   },
   "outputs": [
    {
     "data": {
      "text/html": [
       "\n",
       "  <div id=\"df-8e2adbdb-22b0-4a47-82a0-5473712c5e74\">\n",
       "    <div class=\"colab-df-container\">\n",
       "      <div>\n",
       "<style scoped>\n",
       "    .dataframe tbody tr th:only-of-type {\n",
       "        vertical-align: middle;\n",
       "    }\n",
       "\n",
       "    .dataframe tbody tr th {\n",
       "        vertical-align: top;\n",
       "    }\n",
       "\n",
       "    .dataframe thead th {\n",
       "        text-align: right;\n",
       "    }\n",
       "</style>\n",
       "<table border=\"1\" class=\"dataframe\">\n",
       "  <thead>\n",
       "    <tr style=\"text-align: right;\">\n",
       "      <th></th>\n",
       "      <th>LIMIT_BAL</th>\n",
       "      <th>SEX</th>\n",
       "      <th>EDUCATION</th>\n",
       "      <th>MARRIAGE</th>\n",
       "      <th>AGE</th>\n",
       "      <th>default payment next month</th>\n",
       "    </tr>\n",
       "  </thead>\n",
       "  <tbody>\n",
       "  </tbody>\n",
       "</table>\n",
       "</div>\n",
       "      <button class=\"colab-df-convert\" onclick=\"convertToInteractive('df-8e2adbdb-22b0-4a47-82a0-5473712c5e74')\"\n",
       "              title=\"Convert this dataframe to an interactive table.\"\n",
       "              style=\"display:none;\">\n",
       "        \n",
       "  <svg xmlns=\"http://www.w3.org/2000/svg\" height=\"24px\"viewBox=\"0 0 24 24\"\n",
       "       width=\"24px\">\n",
       "    <path d=\"M0 0h24v24H0V0z\" fill=\"none\"/>\n",
       "    <path d=\"M18.56 5.44l.94 2.06.94-2.06 2.06-.94-2.06-.94-.94-2.06-.94 2.06-2.06.94zm-11 1L8.5 8.5l.94-2.06 2.06-.94-2.06-.94L8.5 2.5l-.94 2.06-2.06.94zm10 10l.94 2.06.94-2.06 2.06-.94-2.06-.94-.94-2.06-.94 2.06-2.06.94z\"/><path d=\"M17.41 7.96l-1.37-1.37c-.4-.4-.92-.59-1.43-.59-.52 0-1.04.2-1.43.59L10.3 9.45l-7.72 7.72c-.78.78-.78 2.05 0 2.83L4 21.41c.39.39.9.59 1.41.59.51 0 1.02-.2 1.41-.59l7.78-7.78 2.81-2.81c.8-.78.8-2.07 0-2.86zM5.41 20L4 18.59l7.72-7.72 1.47 1.35L5.41 20z\"/>\n",
       "  </svg>\n",
       "      </button>\n",
       "      \n",
       "  <style>\n",
       "    .colab-df-container {\n",
       "      display:flex;\n",
       "      flex-wrap:wrap;\n",
       "      gap: 12px;\n",
       "    }\n",
       "\n",
       "    .colab-df-convert {\n",
       "      background-color: #E8F0FE;\n",
       "      border: none;\n",
       "      border-radius: 50%;\n",
       "      cursor: pointer;\n",
       "      display: none;\n",
       "      fill: #1967D2;\n",
       "      height: 32px;\n",
       "      padding: 0 0 0 0;\n",
       "      width: 32px;\n",
       "    }\n",
       "\n",
       "    .colab-df-convert:hover {\n",
       "      background-color: #E2EBFA;\n",
       "      box-shadow: 0px 1px 2px rgba(60, 64, 67, 0.3), 0px 1px 3px 1px rgba(60, 64, 67, 0.15);\n",
       "      fill: #174EA6;\n",
       "    }\n",
       "\n",
       "    [theme=dark] .colab-df-convert {\n",
       "      background-color: #3B4455;\n",
       "      fill: #D2E3FC;\n",
       "    }\n",
       "\n",
       "    [theme=dark] .colab-df-convert:hover {\n",
       "      background-color: #434B5C;\n",
       "      box-shadow: 0px 1px 3px 1px rgba(0, 0, 0, 0.15);\n",
       "      filter: drop-shadow(0px 1px 2px rgba(0, 0, 0, 0.3));\n",
       "      fill: #FFFFFF;\n",
       "    }\n",
       "  </style>\n",
       "\n",
       "      <script>\n",
       "        const buttonEl =\n",
       "          document.querySelector('#df-8e2adbdb-22b0-4a47-82a0-5473712c5e74 button.colab-df-convert');\n",
       "        buttonEl.style.display =\n",
       "          google.colab.kernel.accessAllowed ? 'block' : 'none';\n",
       "\n",
       "        async function convertToInteractive(key) {\n",
       "          const element = document.querySelector('#df-8e2adbdb-22b0-4a47-82a0-5473712c5e74');\n",
       "          const dataTable =\n",
       "            await google.colab.kernel.invokeFunction('convertToInteractive',\n",
       "                                                     [key], {});\n",
       "          if (!dataTable) return;\n",
       "\n",
       "          const docLinkHtml = 'Like what you see? Visit the ' +\n",
       "            '<a target=\"_blank\" href=https://colab.research.google.com/notebooks/data_table.ipynb>data table notebook</a>'\n",
       "            + ' to learn more about interactive tables.';\n",
       "          element.innerHTML = '';\n",
       "          dataTable['output_type'] = 'display_data';\n",
       "          await google.colab.output.renderOutput(dataTable, element);\n",
       "          const docLink = document.createElement('div');\n",
       "          docLink.innerHTML = docLinkHtml;\n",
       "          element.appendChild(docLink);\n",
       "        }\n",
       "      </script>\n",
       "    </div>\n",
       "  </div>\n",
       "  "
      ],
      "text/plain": [
       "Empty DataFrame\n",
       "Columns: [LIMIT_BAL, SEX, EDUCATION, MARRIAGE, AGE, default payment next month]\n",
       "Index: []"
      ]
     },
     "execution_count": 10,
     "metadata": {},
     "output_type": "execute_result"
    }
   ],
   "source": [
    "#checking the data if any row contains null value \n",
    "null_rows_idx = df1[\"MARRIAGE\"].isnull()\n",
    "df1[null_rows_idx] \n",
    "#we find it is a clean dataset"
   ]
  },
  {
   "cell_type": "code",
   "execution_count": 11,
   "metadata": {
    "colab": {
     "base_uri": "https://localhost:8080/"
    },
    "id": "s3D5HNsVBcd6",
    "outputId": "ea81f7f7-e5f2-484f-d461-07e5a881e7ae"
   },
   "outputs": [
    {
     "data": {
      "text/plain": [
       "((24000, 6), (6000, 6))"
      ]
     },
     "execution_count": 11,
     "metadata": {},
     "output_type": "execute_result"
    }
   ],
   "source": [
    "# splitting data now and prepare to build a pipeline and fit randomforestclassifer\n",
    "from sklearn.model_selection import train_test_split\n",
    "train_data, test_data = train_test_split(df1, test_size = .20, random_state=0)\n",
    "\n",
    "train_data.shape, test_data.shape"
   ]
  },
  {
   "cell_type": "code",
   "execution_count": 12,
   "metadata": {
    "colab": {
     "base_uri": "https://localhost:8080/",
     "height": 300
    },
    "id": "1tw9vdHjFzJI",
    "outputId": "cc7d4997-5a4e-4c4d-f352-bced82b3487b"
   },
   "outputs": [
    {
     "data": {
      "text/html": [
       "\n",
       "  <div id=\"df-91efbcd0-48a1-4fc5-9011-ab821e3a7763\">\n",
       "    <div class=\"colab-df-container\">\n",
       "      <div>\n",
       "<style scoped>\n",
       "    .dataframe tbody tr th:only-of-type {\n",
       "        vertical-align: middle;\n",
       "    }\n",
       "\n",
       "    .dataframe tbody tr th {\n",
       "        vertical-align: top;\n",
       "    }\n",
       "\n",
       "    .dataframe thead th {\n",
       "        text-align: right;\n",
       "    }\n",
       "</style>\n",
       "<table border=\"1\" class=\"dataframe\">\n",
       "  <thead>\n",
       "    <tr style=\"text-align: right;\">\n",
       "      <th></th>\n",
       "      <th>LIMIT_BAL</th>\n",
       "      <th>SEX</th>\n",
       "      <th>EDUCATION</th>\n",
       "      <th>MARRIAGE</th>\n",
       "      <th>AGE</th>\n",
       "      <th>default payment next month</th>\n",
       "    </tr>\n",
       "  </thead>\n",
       "  <tbody>\n",
       "    <tr>\n",
       "      <th>count</th>\n",
       "      <td>24000.000000</td>\n",
       "      <td>24000.000000</td>\n",
       "      <td>24000.000000</td>\n",
       "      <td>24000.000000</td>\n",
       "      <td>24000.000000</td>\n",
       "      <td>24000.000000</td>\n",
       "    </tr>\n",
       "    <tr>\n",
       "      <th>mean</th>\n",
       "      <td>167730.986667</td>\n",
       "      <td>1.601167</td>\n",
       "      <td>1.851083</td>\n",
       "      <td>1.553125</td>\n",
       "      <td>35.459542</td>\n",
       "      <td>0.222458</td>\n",
       "    </tr>\n",
       "    <tr>\n",
       "      <th>std</th>\n",
       "      <td>129482.396255</td>\n",
       "      <td>0.489669</td>\n",
       "      <td>0.788046</td>\n",
       "      <td>0.521238</td>\n",
       "      <td>9.191371</td>\n",
       "      <td>0.415906</td>\n",
       "    </tr>\n",
       "    <tr>\n",
       "      <th>min</th>\n",
       "      <td>10000.000000</td>\n",
       "      <td>1.000000</td>\n",
       "      <td>0.000000</td>\n",
       "      <td>0.000000</td>\n",
       "      <td>21.000000</td>\n",
       "      <td>0.000000</td>\n",
       "    </tr>\n",
       "    <tr>\n",
       "      <th>25%</th>\n",
       "      <td>50000.000000</td>\n",
       "      <td>1.000000</td>\n",
       "      <td>1.000000</td>\n",
       "      <td>1.000000</td>\n",
       "      <td>28.000000</td>\n",
       "      <td>0.000000</td>\n",
       "    </tr>\n",
       "    <tr>\n",
       "      <th>50%</th>\n",
       "      <td>140000.000000</td>\n",
       "      <td>2.000000</td>\n",
       "      <td>2.000000</td>\n",
       "      <td>2.000000</td>\n",
       "      <td>34.000000</td>\n",
       "      <td>0.000000</td>\n",
       "    </tr>\n",
       "    <tr>\n",
       "      <th>75%</th>\n",
       "      <td>240000.000000</td>\n",
       "      <td>2.000000</td>\n",
       "      <td>2.000000</td>\n",
       "      <td>2.000000</td>\n",
       "      <td>41.000000</td>\n",
       "      <td>0.000000</td>\n",
       "    </tr>\n",
       "    <tr>\n",
       "      <th>max</th>\n",
       "      <td>800000.000000</td>\n",
       "      <td>2.000000</td>\n",
       "      <td>6.000000</td>\n",
       "      <td>3.000000</td>\n",
       "      <td>79.000000</td>\n",
       "      <td>1.000000</td>\n",
       "    </tr>\n",
       "  </tbody>\n",
       "</table>\n",
       "</div>\n",
       "      <button class=\"colab-df-convert\" onclick=\"convertToInteractive('df-91efbcd0-48a1-4fc5-9011-ab821e3a7763')\"\n",
       "              title=\"Convert this dataframe to an interactive table.\"\n",
       "              style=\"display:none;\">\n",
       "        \n",
       "  <svg xmlns=\"http://www.w3.org/2000/svg\" height=\"24px\"viewBox=\"0 0 24 24\"\n",
       "       width=\"24px\">\n",
       "    <path d=\"M0 0h24v24H0V0z\" fill=\"none\"/>\n",
       "    <path d=\"M18.56 5.44l.94 2.06.94-2.06 2.06-.94-2.06-.94-.94-2.06-.94 2.06-2.06.94zm-11 1L8.5 8.5l.94-2.06 2.06-.94-2.06-.94L8.5 2.5l-.94 2.06-2.06.94zm10 10l.94 2.06.94-2.06 2.06-.94-2.06-.94-.94-2.06-.94 2.06-2.06.94z\"/><path d=\"M17.41 7.96l-1.37-1.37c-.4-.4-.92-.59-1.43-.59-.52 0-1.04.2-1.43.59L10.3 9.45l-7.72 7.72c-.78.78-.78 2.05 0 2.83L4 21.41c.39.39.9.59 1.41.59.51 0 1.02-.2 1.41-.59l7.78-7.78 2.81-2.81c.8-.78.8-2.07 0-2.86zM5.41 20L4 18.59l7.72-7.72 1.47 1.35L5.41 20z\"/>\n",
       "  </svg>\n",
       "      </button>\n",
       "      \n",
       "  <style>\n",
       "    .colab-df-container {\n",
       "      display:flex;\n",
       "      flex-wrap:wrap;\n",
       "      gap: 12px;\n",
       "    }\n",
       "\n",
       "    .colab-df-convert {\n",
       "      background-color: #E8F0FE;\n",
       "      border: none;\n",
       "      border-radius: 50%;\n",
       "      cursor: pointer;\n",
       "      display: none;\n",
       "      fill: #1967D2;\n",
       "      height: 32px;\n",
       "      padding: 0 0 0 0;\n",
       "      width: 32px;\n",
       "    }\n",
       "\n",
       "    .colab-df-convert:hover {\n",
       "      background-color: #E2EBFA;\n",
       "      box-shadow: 0px 1px 2px rgba(60, 64, 67, 0.3), 0px 1px 3px 1px rgba(60, 64, 67, 0.15);\n",
       "      fill: #174EA6;\n",
       "    }\n",
       "\n",
       "    [theme=dark] .colab-df-convert {\n",
       "      background-color: #3B4455;\n",
       "      fill: #D2E3FC;\n",
       "    }\n",
       "\n",
       "    [theme=dark] .colab-df-convert:hover {\n",
       "      background-color: #434B5C;\n",
       "      box-shadow: 0px 1px 3px 1px rgba(0, 0, 0, 0.15);\n",
       "      filter: drop-shadow(0px 1px 2px rgba(0, 0, 0, 0.3));\n",
       "      fill: #FFFFFF;\n",
       "    }\n",
       "  </style>\n",
       "\n",
       "      <script>\n",
       "        const buttonEl =\n",
       "          document.querySelector('#df-91efbcd0-48a1-4fc5-9011-ab821e3a7763 button.colab-df-convert');\n",
       "        buttonEl.style.display =\n",
       "          google.colab.kernel.accessAllowed ? 'block' : 'none';\n",
       "\n",
       "        async function convertToInteractive(key) {\n",
       "          const element = document.querySelector('#df-91efbcd0-48a1-4fc5-9011-ab821e3a7763');\n",
       "          const dataTable =\n",
       "            await google.colab.kernel.invokeFunction('convertToInteractive',\n",
       "                                                     [key], {});\n",
       "          if (!dataTable) return;\n",
       "\n",
       "          const docLinkHtml = 'Like what you see? Visit the ' +\n",
       "            '<a target=\"_blank\" href=https://colab.research.google.com/notebooks/data_table.ipynb>data table notebook</a>'\n",
       "            + ' to learn more about interactive tables.';\n",
       "          element.innerHTML = '';\n",
       "          dataTable['output_type'] = 'display_data';\n",
       "          await google.colab.output.renderOutput(dataTable, element);\n",
       "          const docLink = document.createElement('div');\n",
       "          docLink.innerHTML = docLinkHtml;\n",
       "          element.appendChild(docLink);\n",
       "        }\n",
       "      </script>\n",
       "    </div>\n",
       "  </div>\n",
       "  "
      ],
      "text/plain": [
       "           LIMIT_BAL           SEX     EDUCATION      MARRIAGE           AGE  \\\n",
       "count   24000.000000  24000.000000  24000.000000  24000.000000  24000.000000   \n",
       "mean   167730.986667      1.601167      1.851083      1.553125     35.459542   \n",
       "std    129482.396255      0.489669      0.788046      0.521238      9.191371   \n",
       "min     10000.000000      1.000000      0.000000      0.000000     21.000000   \n",
       "25%     50000.000000      1.000000      1.000000      1.000000     28.000000   \n",
       "50%    140000.000000      2.000000      2.000000      2.000000     34.000000   \n",
       "75%    240000.000000      2.000000      2.000000      2.000000     41.000000   \n",
       "max    800000.000000      2.000000      6.000000      3.000000     79.000000   \n",
       "\n",
       "       default payment next month  \n",
       "count                24000.000000  \n",
       "mean                     0.222458  \n",
       "std                      0.415906  \n",
       "min                      0.000000  \n",
       "25%                      0.000000  \n",
       "50%                      0.000000  \n",
       "75%                      0.000000  \n",
       "max                      1.000000  "
      ]
     },
     "execution_count": 12,
     "metadata": {},
     "output_type": "execute_result"
    }
   ],
   "source": [
    "train_data.describe()"
   ]
  },
  {
   "cell_type": "code",
   "execution_count": 13,
   "metadata": {
    "colab": {
     "base_uri": "https://localhost:8080/"
    },
    "id": "pogjyzoLF0jp",
    "outputId": "57d91bf7-cdc5-4809-be38-8bbd0a9c2c47"
   },
   "outputs": [
    {
     "data": {
      "text/plain": [
       "0    18661\n",
       "1     5339\n",
       "Name: default payment next month, dtype: int64"
      ]
     },
     "execution_count": 13,
     "metadata": {},
     "output_type": "execute_result"
    }
   ],
   "source": [
    "#checking whether the y value column only contains 0/1 value\n",
    "train_data[\"default payment next month\"].value_counts()"
   ]
  },
  {
   "cell_type": "code",
   "execution_count": 28,
   "metadata": {
    "id": "RamVvR2OUXNq"
   },
   "outputs": [],
   "source": [
    "df1_labels = df1[\"default payment next month\"].copy()"
   ]
  },
  {
   "cell_type": "markdown",
   "metadata": {
    "id": "TYPRRe1oAR59"
   },
   "source": [
    "$\\color{red}{\\text{2. Prepare a pipeline}}$"
   ]
  },
  {
   "cell_type": "markdown",
   "metadata": {
    "id": "QFe-K8zsAYgp"
   },
   "source": [
    " 2. \n",
    "  1. $\\color{red}{\\text{standardize the numeric attributes}}$\n",
    "  "
   ]
  },
  {
   "cell_type": "code",
   "execution_count": 14,
   "metadata": {
    "id": "RGehXZjk2rhk"
   },
   "outputs": [],
   "source": [
    "#feature scaling using standardscaler\n",
    "from sklearn.preprocessing import StandardScaler\n",
    "df1_num = df1.select_dtypes(include=[np.number])\n",
    "std_scaler = StandardScaler()\n",
    "df1_num_std_scaled = std_scaler.fit_transform(df1_num)"
   ]
  },
  {
   "cell_type": "code",
   "execution_count": 15,
   "metadata": {
    "colab": {
     "base_uri": "https://localhost:8080/",
     "height": 226
    },
    "id": "mugIwxy2IsES",
    "outputId": "d9311f3a-a8dc-4adb-a299-0210bbcbd5a3"
   },
   "outputs": [
    {
     "data": {
      "image/png": "[encoded data removed]",
      "text/plain": [
       "<Figure size 576x216 with 2 Axes>"
      ]
     },
     "metadata": {
      "needs_background": "light"
     },
     "output_type": "display_data"
    }
   ],
   "source": [
    "fig, axs = plt.subplots(1, 2, figsize=(8, 3), sharey=True)\n",
    "df1[\"LIMIT_BAL\"].hist(ax=axs[0], bins=50)\n",
    "df1[\"LIMIT_BAL\"].apply(np.log).hist(ax=axs[1], bins=50)\n",
    "axs[0].set_xlabel(\"LIMIT_BAL\")\n",
    "axs[1].set_xlabel(\"Log of LIMIT_BAL\")\n",
    "axs[0].set_ylabel(\"default payment next month\")\n",
    "plt.show()"
   ]
  },
  {
   "cell_type": "code",
   "execution_count": 17,
   "metadata": {
    "id": "Y8QTjuA3JAFr"
   },
   "outputs": [],
   "source": [
    "from sklearn.preprocessing import FunctionTransformer\n",
    "\n",
    "log_transformer = FunctionTransformer(np.log, inverse_func=np.exp)\n",
    "log_pop = log_transformer.transform(df1[[\"LIMIT_BAL\"]])"
   ]
  },
  {
   "cell_type": "code",
   "execution_count": 18,
   "metadata": {
    "colab": {
     "base_uri": "https://localhost:8080/"
    },
    "id": "QSkwc0OKJMjq",
    "outputId": "9500342e-0569-4136-f191-003729e351bb"
   },
   "outputs": [
    {
     "data": {
      "text/plain": [
       "array([[0.5 ],\n",
       "       [0.75]])"
      ]
     },
     "execution_count": 18,
     "metadata": {},
     "output_type": "execute_result"
    }
   ],
   "source": [
    "ratio_transformer = FunctionTransformer(lambda X: X[:, [0]] / X[:, [1]])\n",
    "ratio_transformer.transform(np.array([[1., 2.], [3., 4.]]))"
   ]
  },
  {
   "cell_type": "markdown",
   "metadata": {
    "id": "2c66ZS3SMxas"
   },
   "source": [
    "2. \n",
    "  2. $\\color{red}{\\text{expand the categorical attributes to columns of 0/1 variables}}$"
   ]
  },
  {
   "cell_type": "code",
   "execution_count": 19,
   "metadata": {
    "id": "WNogItnEJT-q"
   },
   "outputs": [],
   "source": [
    "from sklearn.pipeline import Pipeline\n",
    "from sklearn.impute import SimpleImputer\n",
    "from sklearn.preprocessing import StandardScaler\n",
    "from sklearn import set_config\n",
    "\n",
    "set_config(display='diagram')\n",
    "\n",
    "num_pipeline = Pipeline([\n",
    "        (\"imputer\", SimpleImputer(strategy=\"median\")),\n",
    "        (\"scaler\", StandardScaler())\n",
    "    ])"
   ]
  },
  {
   "cell_type": "code",
   "execution_count": 20,
   "metadata": {
    "id": "YMsAspFnJe8C"
   },
   "outputs": [],
   "source": [
    "from sklearn.preprocessing import OrdinalEncoder, OneHotEncoder\n",
    "cat_pipeline = Pipeline([\n",
    "        (\"imputer\", SimpleImputer(strategy=\"most_frequent\")),\n",
    "        (\"cat_encoder\", OneHotEncoder(sparse=False, drop=\"if_binary\"))\n",
    "    ])"
   ]
  },
  {
   "cell_type": "code",
   "execution_count": 21,
   "metadata": {
    "colab": {
     "base_uri": "https://localhost:8080/",
     "height": 152
    },
    "id": "KzPG1zVnSiI2",
    "outputId": "1ce72cce-39e6-4bf9-aa53-0c81a7350329"
   },
   "outputs": [
    {
     "data": {
      "text/html": [
       "<style>#sk-119cc2b5-efeb-47d6-a5c5-ea15965de8dd {color: black;background-color: white;}#sk-119cc2b5-efeb-47d6-a5c5-ea15965de8dd pre{padding: 0;}#sk-119cc2b5-efeb-47d6-a5c5-ea15965de8dd div.sk-toggleable {background-color: white;}#sk-119cc2b5-efeb-47d6-a5c5-ea15965de8dd label.sk-toggleable__label {cursor: pointer;display: block;width: 100%;margin-bottom: 0;padding: 0.3em;box-sizing: border-box;text-align: center;}#sk-119cc2b5-efeb-47d6-a5c5-ea15965de8dd label.sk-toggleable__label-arrow:before {content: \"▸\";float: left;margin-right: 0.25em;color: #696969;}#sk-119cc2b5-efeb-47d6-a5c5-ea15965de8dd label.sk-toggleable__label-arrow:hover:before {color: black;}#sk-119cc2b5-efeb-47d6-a5c5-ea15965de8dd div.sk-estimator:hover label.sk-toggleable__label-arrow:before {color: black;}#sk-119cc2b5-efeb-47d6-a5c5-ea15965de8dd div.sk-toggleable__content {max-height: 0;max-width: 0;overflow: hidden;text-align: left;background-color: #f0f8ff;}#sk-119cc2b5-efeb-47d6-a5c5-ea15965de8dd div.sk-toggleable__content pre {margin: 0.2em;color: black;border-radius: 0.25em;background-color: #f0f8ff;}#sk-119cc2b5-efeb-47d6-a5c5-ea15965de8dd input.sk-toggleable__control:checked~div.sk-toggleable__content {max-height: 200px;max-width: 100%;overflow: auto;}#sk-119cc2b5-efeb-47d6-a5c5-ea15965de8dd input.sk-toggleable__control:checked~label.sk-toggleable__label-arrow:before {content: \"▾\";}#sk-119cc2b5-efeb-47d6-a5c5-ea15965de8dd div.sk-estimator input.sk-toggleable__control:checked~label.sk-toggleable__label {background-color: #d4ebff;}#sk-119cc2b5-efeb-47d6-a5c5-ea15965de8dd div.sk-label input.sk-toggleable__control:checked~label.sk-toggleable__label {background-color: #d4ebff;}#sk-119cc2b5-efeb-47d6-a5c5-ea15965de8dd input.sk-hidden--visually {border: 0;clip: rect(1px 1px 1px 1px);clip: rect(1px, 1px, 1px, 1px);height: 1px;margin: -1px;overflow: hidden;padding: 0;position: absolute;width: 1px;}#sk-119cc2b5-efeb-47d6-a5c5-ea15965de8dd div.sk-estimator {font-family: monospace;background-color: #f0f8ff;border: 1px dotted black;border-radius: 0.25em;box-sizing: border-box;margin-bottom: 0.5em;}#sk-119cc2b5-efeb-47d6-a5c5-ea15965de8dd div.sk-estimator:hover {background-color: #d4ebff;}#sk-119cc2b5-efeb-47d6-a5c5-ea15965de8dd div.sk-parallel-item::after {content: \"\";width: 100%;border-bottom: 1px solid gray;flex-grow: 1;}#sk-119cc2b5-efeb-47d6-a5c5-ea15965de8dd div.sk-label:hover label.sk-toggleable__label {background-color: #d4ebff;}#sk-119cc2b5-efeb-47d6-a5c5-ea15965de8dd div.sk-serial::before {content: \"\";position: absolute;border-left: 1px solid gray;box-sizing: border-box;top: 2em;bottom: 0;left: 50%;}#sk-119cc2b5-efeb-47d6-a5c5-ea15965de8dd div.sk-serial {display: flex;flex-direction: column;align-items: center;background-color: white;padding-right: 0.2em;padding-left: 0.2em;}#sk-119cc2b5-efeb-47d6-a5c5-ea15965de8dd div.sk-item {z-index: 1;}#sk-119cc2b5-efeb-47d6-a5c5-ea15965de8dd div.sk-parallel {display: flex;align-items: stretch;justify-content: center;background-color: white;}#sk-119cc2b5-efeb-47d6-a5c5-ea15965de8dd div.sk-parallel::before {content: \"\";position: absolute;border-left: 1px solid gray;box-sizing: border-box;top: 2em;bottom: 0;left: 50%;}#sk-119cc2b5-efeb-47d6-a5c5-ea15965de8dd div.sk-parallel-item {display: flex;flex-direction: column;position: relative;background-color: white;}#sk-119cc2b5-efeb-47d6-a5c5-ea15965de8dd div.sk-parallel-item:first-child::after {align-self: flex-end;width: 50%;}#sk-119cc2b5-efeb-47d6-a5c5-ea15965de8dd div.sk-parallel-item:last-child::after {align-self: flex-start;width: 50%;}#sk-119cc2b5-efeb-47d6-a5c5-ea15965de8dd div.sk-parallel-item:only-child::after {width: 0;}#sk-119cc2b5-efeb-47d6-a5c5-ea15965de8dd div.sk-dashed-wrapped {border: 1px dashed gray;margin: 0 0.4em 0.5em 0.4em;box-sizing: border-box;padding-bottom: 0.4em;background-color: white;position: relative;}#sk-119cc2b5-efeb-47d6-a5c5-ea15965de8dd div.sk-label label {font-family: monospace;font-weight: bold;background-color: white;display: inline-block;line-height: 1.2em;}#sk-119cc2b5-efeb-47d6-a5c5-ea15965de8dd div.sk-label-container {position: relative;z-index: 2;text-align: center;}#sk-119cc2b5-efeb-47d6-a5c5-ea15965de8dd div.sk-container {/* jupyter's `normalize.less` sets `[hidden] { display: none; }` but bootstrap.min.css set `[hidden] { display: none !important; }` so we also need the `!important` here to be able to override the default hidden behavior on the sphinx rendered scikit-learn.org. See: https://github.com/scikit-learn/scikit-learn/issues/21755 */display: inline-block !important;position: relative;}#sk-119cc2b5-efeb-47d6-a5c5-ea15965de8dd div.sk-text-repr-fallback {display: none;}</style><div id=\"sk-119cc2b5-efeb-47d6-a5c5-ea15965de8dd\" class=\"sk-top-container\"><div class=\"sk-text-repr-fallback\"><pre>ColumnTransformer(transformers=[(&#x27;num&#x27;,\n",
       "                                 Pipeline(steps=[(&#x27;imputer&#x27;,\n",
       "                                                  SimpleImputer(strategy=&#x27;median&#x27;)),\n",
       "                                                 (&#x27;scaler&#x27;, StandardScaler())]),\n",
       "                                 [&#x27;LIMIT_BAL&#x27;, &#x27;AGE&#x27;]),\n",
       "                                (&#x27;cat&#x27;,\n",
       "                                 Pipeline(steps=[(&#x27;imputer&#x27;,\n",
       "                                                  SimpleImputer(strategy=&#x27;most_frequent&#x27;)),\n",
       "                                                 (&#x27;cat_encoder&#x27;,\n",
       "                                                  OneHotEncoder(drop=&#x27;if_binary&#x27;,\n",
       "                                                                sparse=False))]),\n",
       "                                 [&#x27;SEX&#x27;, &#x27;MARRIAGE&#x27;, &#x27;EDUCATION&#x27;])])</pre><b>Please rerun this cell to show the HTML repr or trust the notebook.</b></div><div class=\"sk-container\" hidden><div class=\"sk-item sk-dashed-wrapped\"><div class=\"sk-label-container\"><div class=\"sk-label sk-toggleable\"><input class=\"sk-toggleable__control sk-hidden--visually\" id=\"36a81ea7-6ec2-4b9b-9358-e49994f25671\" type=\"checkbox\" ><label for=\"36a81ea7-6ec2-4b9b-9358-e49994f25671\" class=\"sk-toggleable__label sk-toggleable__label-arrow\">ColumnTransformer</label><div class=\"sk-toggleable__content\"><pre>ColumnTransformer(transformers=[(&#x27;num&#x27;,\n",
       "                                 Pipeline(steps=[(&#x27;imputer&#x27;,\n",
       "                                                  SimpleImputer(strategy=&#x27;median&#x27;)),\n",
       "                                                 (&#x27;scaler&#x27;, StandardScaler())]),\n",
       "                                 [&#x27;LIMIT_BAL&#x27;, &#x27;AGE&#x27;]),\n",
       "                                (&#x27;cat&#x27;,\n",
       "                                 Pipeline(steps=[(&#x27;imputer&#x27;,\n",
       "                                                  SimpleImputer(strategy=&#x27;most_frequent&#x27;)),\n",
       "                                                 (&#x27;cat_encoder&#x27;,\n",
       "                                                  OneHotEncoder(drop=&#x27;if_binary&#x27;,\n",
       "                                                                sparse=False))]),\n",
       "                                 [&#x27;SEX&#x27;, &#x27;MARRIAGE&#x27;, &#x27;EDUCATION&#x27;])])</pre></div></div></div><div class=\"sk-parallel\"><div class=\"sk-parallel-item\"><div class=\"sk-item\"><div class=\"sk-label-container\"><div class=\"sk-label sk-toggleable\"><input class=\"sk-toggleable__control sk-hidden--visually\" id=\"90247bff-7cc7-48e3-ade1-2c9d3726cc77\" type=\"checkbox\" ><label for=\"90247bff-7cc7-48e3-ade1-2c9d3726cc77\" class=\"sk-toggleable__label sk-toggleable__label-arrow\">num</label><div class=\"sk-toggleable__content\"><pre>[&#x27;LIMIT_BAL&#x27;, &#x27;AGE&#x27;]</pre></div></div></div><div class=\"sk-serial\"><div class=\"sk-item\"><div class=\"sk-serial\"><div class=\"sk-item\"><div class=\"sk-estimator sk-toggleable\"><input class=\"sk-toggleable__control sk-hidden--visually\" id=\"b402bee8-37cb-41b7-b4f1-97780c82eeef\" type=\"checkbox\" ><label for=\"b402bee8-37cb-41b7-b4f1-97780c82eeef\" class=\"sk-toggleable__label sk-toggleable__label-arrow\">SimpleImputer</label><div class=\"sk-toggleable__content\"><pre>SimpleImputer(strategy=&#x27;median&#x27;)</pre></div></div></div><div class=\"sk-item\"><div class=\"sk-estimator sk-toggleable\"><input class=\"sk-toggleable__control sk-hidden--visually\" id=\"888cd374-0f82-4a4a-9736-2d3bc091bf05\" type=\"checkbox\" ><label for=\"888cd374-0f82-4a4a-9736-2d3bc091bf05\" class=\"sk-toggleable__label sk-toggleable__label-arrow\">StandardScaler</label><div class=\"sk-toggleable__content\"><pre>StandardScaler()</pre></div></div></div></div></div></div></div></div><div class=\"sk-parallel-item\"><div class=\"sk-item\"><div class=\"sk-label-container\"><div class=\"sk-label sk-toggleable\"><input class=\"sk-toggleable__control sk-hidden--visually\" id=\"1860299c-d693-47a9-87ca-d4a91c8a013d\" type=\"checkbox\" ><label for=\"1860299c-d693-47a9-87ca-d4a91c8a013d\" class=\"sk-toggleable__label sk-toggleable__label-arrow\">cat</label><div class=\"sk-toggleable__content\"><pre>[&#x27;SEX&#x27;, &#x27;MARRIAGE&#x27;, &#x27;EDUCATION&#x27;]</pre></div></div></div><div class=\"sk-serial\"><div class=\"sk-item\"><div class=\"sk-serial\"><div class=\"sk-item\"><div class=\"sk-estimator sk-toggleable\"><input class=\"sk-toggleable__control sk-hidden--visually\" id=\"b6b3b8bd-cbe3-4cec-88bb-3b45d020f77d\" type=\"checkbox\" ><label for=\"b6b3b8bd-cbe3-4cec-88bb-3b45d020f77d\" class=\"sk-toggleable__label sk-toggleable__label-arrow\">SimpleImputer</label><div class=\"sk-toggleable__content\"><pre>SimpleImputer(strategy=&#x27;most_frequent&#x27;)</pre></div></div></div><div class=\"sk-item\"><div class=\"sk-estimator sk-toggleable\"><input class=\"sk-toggleable__control sk-hidden--visually\" id=\"2f0d68e7-7fa9-40c8-8737-9595ac48d16c\" type=\"checkbox\" ><label for=\"2f0d68e7-7fa9-40c8-8737-9595ac48d16c\" class=\"sk-toggleable__label sk-toggleable__label-arrow\">OneHotEncoder</label><div class=\"sk-toggleable__content\"><pre>OneHotEncoder(drop=&#x27;if_binary&#x27;, sparse=False)</pre></div></div></div></div></div></div></div></div></div></div></div></div>"
      ],
      "text/plain": [
       "ColumnTransformer(transformers=[('num',\n",
       "                                 Pipeline(steps=[('imputer',\n",
       "                                                  SimpleImputer(strategy='median')),\n",
       "                                                 ('scaler', StandardScaler())]),\n",
       "                                 ['LIMIT_BAL', 'AGE']),\n",
       "                                ('cat',\n",
       "                                 Pipeline(steps=[('imputer',\n",
       "                                                  SimpleImputer(strategy='most_frequent')),\n",
       "                                                 ('cat_encoder',\n",
       "                                                  OneHotEncoder(drop='if_binary',\n",
       "                                                                sparse=False))]),\n",
       "                                 ['SEX', 'MARRIAGE', 'EDUCATION'])])"
      ]
     },
     "execution_count": 21,
     "metadata": {},
     "output_type": "execute_result"
    }
   ],
   "source": [
    "from sklearn.compose import ColumnTransformer\n",
    "from sklearn.preprocessing import StandardScaler\n",
    "\n",
    "num_attribs = [\"LIMIT_BAL\", \"AGE\"]\n",
    "cat_attribs = [\"SEX\",\"MARRIAGE\",\"EDUCATION\"]\n",
    "SimpleImputer.get_feature_names_out = StandardScaler.get_feature_names_out\n",
    "\n",
    "preprocess_pipeline = ColumnTransformer([\n",
    "        (\"num\", num_pipeline, num_attribs),\n",
    "        (\"cat\", cat_pipeline, cat_attribs),\n",
    "    ])\n",
    "\n",
    "preprocess_pipeline"
   ]
  },
  {
   "cell_type": "code",
   "execution_count": 53,
   "metadata": {
    "colab": {
     "base_uri": "https://localhost:8080/",
     "height": 227
    },
    "id": "FST00N5hsZoq",
    "outputId": "f060b210-9cc7-49e1-f11e-96cb19252474"
   },
   "outputs": [
    {
     "data": {
      "text/html": [
       "<style>#sk-9a20db8e-a552-4e4c-b982-10422d9a9cc9 {color: black;background-color: white;}#sk-9a20db8e-a552-4e4c-b982-10422d9a9cc9 pre{padding: 0;}#sk-9a20db8e-a552-4e4c-b982-10422d9a9cc9 div.sk-toggleable {background-color: white;}#sk-9a20db8e-a552-4e4c-b982-10422d9a9cc9 label.sk-toggleable__label {cursor: pointer;display: block;width: 100%;margin-bottom: 0;padding: 0.3em;box-sizing: border-box;text-align: center;}#sk-9a20db8e-a552-4e4c-b982-10422d9a9cc9 label.sk-toggleable__label-arrow:before {content: \"▸\";float: left;margin-right: 0.25em;color: #696969;}#sk-9a20db8e-a552-4e4c-b982-10422d9a9cc9 label.sk-toggleable__label-arrow:hover:before {color: black;}#sk-9a20db8e-a552-4e4c-b982-10422d9a9cc9 div.sk-estimator:hover label.sk-toggleable__label-arrow:before {color: black;}#sk-9a20db8e-a552-4e4c-b982-10422d9a9cc9 div.sk-toggleable__content {max-height: 0;max-width: 0;overflow: hidden;text-align: left;background-color: #f0f8ff;}#sk-9a20db8e-a552-4e4c-b982-10422d9a9cc9 div.sk-toggleable__content pre {margin: 0.2em;color: black;border-radius: 0.25em;background-color: #f0f8ff;}#sk-9a20db8e-a552-4e4c-b982-10422d9a9cc9 input.sk-toggleable__control:checked~div.sk-toggleable__content {max-height: 200px;max-width: 100%;overflow: auto;}#sk-9a20db8e-a552-4e4c-b982-10422d9a9cc9 input.sk-toggleable__control:checked~label.sk-toggleable__label-arrow:before {content: \"▾\";}#sk-9a20db8e-a552-4e4c-b982-10422d9a9cc9 div.sk-estimator input.sk-toggleable__control:checked~label.sk-toggleable__label {background-color: #d4ebff;}#sk-9a20db8e-a552-4e4c-b982-10422d9a9cc9 div.sk-label input.sk-toggleable__control:checked~label.sk-toggleable__label {background-color: #d4ebff;}#sk-9a20db8e-a552-4e4c-b982-10422d9a9cc9 input.sk-hidden--visually {border: 0;clip: rect(1px 1px 1px 1px);clip: rect(1px, 1px, 1px, 1px);height: 1px;margin: -1px;overflow: hidden;padding: 0;position: absolute;width: 1px;}#sk-9a20db8e-a552-4e4c-b982-10422d9a9cc9 div.sk-estimator {font-family: monospace;background-color: #f0f8ff;border: 1px dotted black;border-radius: 0.25em;box-sizing: border-box;margin-bottom: 0.5em;}#sk-9a20db8e-a552-4e4c-b982-10422d9a9cc9 div.sk-estimator:hover {background-color: #d4ebff;}#sk-9a20db8e-a552-4e4c-b982-10422d9a9cc9 div.sk-parallel-item::after {content: \"\";width: 100%;border-bottom: 1px solid gray;flex-grow: 1;}#sk-9a20db8e-a552-4e4c-b982-10422d9a9cc9 div.sk-label:hover label.sk-toggleable__label {background-color: #d4ebff;}#sk-9a20db8e-a552-4e4c-b982-10422d9a9cc9 div.sk-serial::before {content: \"\";position: absolute;border-left: 1px solid gray;box-sizing: border-box;top: 2em;bottom: 0;left: 50%;}#sk-9a20db8e-a552-4e4c-b982-10422d9a9cc9 div.sk-serial {display: flex;flex-direction: column;align-items: center;background-color: white;padding-right: 0.2em;padding-left: 0.2em;}#sk-9a20db8e-a552-4e4c-b982-10422d9a9cc9 div.sk-item {z-index: 1;}#sk-9a20db8e-a552-4e4c-b982-10422d9a9cc9 div.sk-parallel {display: flex;align-items: stretch;justify-content: center;background-color: white;}#sk-9a20db8e-a552-4e4c-b982-10422d9a9cc9 div.sk-parallel::before {content: \"\";position: absolute;border-left: 1px solid gray;box-sizing: border-box;top: 2em;bottom: 0;left: 50%;}#sk-9a20db8e-a552-4e4c-b982-10422d9a9cc9 div.sk-parallel-item {display: flex;flex-direction: column;position: relative;background-color: white;}#sk-9a20db8e-a552-4e4c-b982-10422d9a9cc9 div.sk-parallel-item:first-child::after {align-self: flex-end;width: 50%;}#sk-9a20db8e-a552-4e4c-b982-10422d9a9cc9 div.sk-parallel-item:last-child::after {align-self: flex-start;width: 50%;}#sk-9a20db8e-a552-4e4c-b982-10422d9a9cc9 div.sk-parallel-item:only-child::after {width: 0;}#sk-9a20db8e-a552-4e4c-b982-10422d9a9cc9 div.sk-dashed-wrapped {border: 1px dashed gray;margin: 0 0.4em 0.5em 0.4em;box-sizing: border-box;padding-bottom: 0.4em;background-color: white;position: relative;}#sk-9a20db8e-a552-4e4c-b982-10422d9a9cc9 div.sk-label label {font-family: monospace;font-weight: bold;background-color: white;display: inline-block;line-height: 1.2em;}#sk-9a20db8e-a552-4e4c-b982-10422d9a9cc9 div.sk-label-container {position: relative;z-index: 2;text-align: center;}#sk-9a20db8e-a552-4e4c-b982-10422d9a9cc9 div.sk-container {/* jupyter's `normalize.less` sets `[hidden] { display: none; }` but bootstrap.min.css set `[hidden] { display: none !important; }` so we also need the `!important` here to be able to override the default hidden behavior on the sphinx rendered scikit-learn.org. See: https://github.com/scikit-learn/scikit-learn/issues/21755 */display: inline-block !important;position: relative;}#sk-9a20db8e-a552-4e4c-b982-10422d9a9cc9 div.sk-text-repr-fallback {display: none;}</style><div id=\"sk-9a20db8e-a552-4e4c-b982-10422d9a9cc9\" class=\"sk-top-container\"><div class=\"sk-text-repr-fallback\"><pre>Pipeline(steps=[(&#x27;preprocessing&#x27;,\n",
       "                 ColumnTransformer(transformers=[(&#x27;num&#x27;,\n",
       "                                                  Pipeline(steps=[(&#x27;imputer&#x27;,\n",
       "                                                                   SimpleImputer(strategy=&#x27;median&#x27;)),\n",
       "                                                                  (&#x27;scaler&#x27;,\n",
       "                                                                   StandardScaler())]),\n",
       "                                                  [&#x27;LIMIT_BAL&#x27;, &#x27;AGE&#x27;]),\n",
       "                                                 (&#x27;cat&#x27;,\n",
       "                                                  Pipeline(steps=[(&#x27;imputer&#x27;,\n",
       "                                                                   SimpleImputer(strategy=&#x27;most_frequent&#x27;)),\n",
       "                                                                  (&#x27;cat_encoder&#x27;,\n",
       "                                                                   OneHotEncoder(drop=&#x27;if_binary&#x27;,\n",
       "                                                                                 sparse=False))]),\n",
       "                                                  [&#x27;SEX&#x27;, &#x27;MARRIAGE&#x27;,\n",
       "                                                   &#x27;EDUCATION&#x27;])])),\n",
       "                (&#x27;svm&#x27;, SVC())])</pre><b>Please rerun this cell to show the HTML repr or trust the notebook.</b></div><div class=\"sk-container\" hidden><div class=\"sk-item sk-dashed-wrapped\"><div class=\"sk-label-container\"><div class=\"sk-label sk-toggleable\"><input class=\"sk-toggleable__control sk-hidden--visually\" id=\"c7a00797-845a-482e-9693-d1d16c76fca2\" type=\"checkbox\" ><label for=\"c7a00797-845a-482e-9693-d1d16c76fca2\" class=\"sk-toggleable__label sk-toggleable__label-arrow\">Pipeline</label><div class=\"sk-toggleable__content\"><pre>Pipeline(steps=[(&#x27;preprocessing&#x27;,\n",
       "                 ColumnTransformer(transformers=[(&#x27;num&#x27;,\n",
       "                                                  Pipeline(steps=[(&#x27;imputer&#x27;,\n",
       "                                                                   SimpleImputer(strategy=&#x27;median&#x27;)),\n",
       "                                                                  (&#x27;scaler&#x27;,\n",
       "                                                                   StandardScaler())]),\n",
       "                                                  [&#x27;LIMIT_BAL&#x27;, &#x27;AGE&#x27;]),\n",
       "                                                 (&#x27;cat&#x27;,\n",
       "                                                  Pipeline(steps=[(&#x27;imputer&#x27;,\n",
       "                                                                   SimpleImputer(strategy=&#x27;most_frequent&#x27;)),\n",
       "                                                                  (&#x27;cat_encoder&#x27;,\n",
       "                                                                   OneHotEncoder(drop=&#x27;if_binary&#x27;,\n",
       "                                                                                 sparse=False))]),\n",
       "                                                  [&#x27;SEX&#x27;, &#x27;MARRIAGE&#x27;,\n",
       "                                                   &#x27;EDUCATION&#x27;])])),\n",
       "                (&#x27;svm&#x27;, SVC())])</pre></div></div></div><div class=\"sk-serial\"><div class=\"sk-item sk-dashed-wrapped\"><div class=\"sk-label-container\"><div class=\"sk-label sk-toggleable\"><input class=\"sk-toggleable__control sk-hidden--visually\" id=\"7dab26bf-420b-4226-b017-ade8d9063c30\" type=\"checkbox\" ><label for=\"7dab26bf-420b-4226-b017-ade8d9063c30\" class=\"sk-toggleable__label sk-toggleable__label-arrow\">preprocessing: ColumnTransformer</label><div class=\"sk-toggleable__content\"><pre>ColumnTransformer(transformers=[(&#x27;num&#x27;,\n",
       "                                 Pipeline(steps=[(&#x27;imputer&#x27;,\n",
       "                                                  SimpleImputer(strategy=&#x27;median&#x27;)),\n",
       "                                                 (&#x27;scaler&#x27;, StandardScaler())]),\n",
       "                                 [&#x27;LIMIT_BAL&#x27;, &#x27;AGE&#x27;]),\n",
       "                                (&#x27;cat&#x27;,\n",
       "                                 Pipeline(steps=[(&#x27;imputer&#x27;,\n",
       "                                                  SimpleImputer(strategy=&#x27;most_frequent&#x27;)),\n",
       "                                                 (&#x27;cat_encoder&#x27;,\n",
       "                                                  OneHotEncoder(drop=&#x27;if_binary&#x27;,\n",
       "                                                                sparse=False))]),\n",
       "                                 [&#x27;SEX&#x27;, &#x27;MARRIAGE&#x27;, &#x27;EDUCATION&#x27;])])</pre></div></div></div><div class=\"sk-parallel\"><div class=\"sk-parallel-item\"><div class=\"sk-item\"><div class=\"sk-label-container\"><div class=\"sk-label sk-toggleable\"><input class=\"sk-toggleable__control sk-hidden--visually\" id=\"bdfd42ad-3db3-4108-b194-728c89318ba2\" type=\"checkbox\" ><label for=\"bdfd42ad-3db3-4108-b194-728c89318ba2\" class=\"sk-toggleable__label sk-toggleable__label-arrow\">num</label><div class=\"sk-toggleable__content\"><pre>[&#x27;LIMIT_BAL&#x27;, &#x27;AGE&#x27;]</pre></div></div></div><div class=\"sk-serial\"><div class=\"sk-item\"><div class=\"sk-serial\"><div class=\"sk-item\"><div class=\"sk-estimator sk-toggleable\"><input class=\"sk-toggleable__control sk-hidden--visually\" id=\"9bba3ba7-914d-4c15-a6a5-1bf48b6caef8\" type=\"checkbox\" ><label for=\"9bba3ba7-914d-4c15-a6a5-1bf48b6caef8\" class=\"sk-toggleable__label sk-toggleable__label-arrow\">SimpleImputer</label><div class=\"sk-toggleable__content\"><pre>SimpleImputer(strategy=&#x27;median&#x27;)</pre></div></div></div><div class=\"sk-item\"><div class=\"sk-estimator sk-toggleable\"><input class=\"sk-toggleable__control sk-hidden--visually\" id=\"895e1433-2a0a-490e-bbc1-6de3b796e706\" type=\"checkbox\" ><label for=\"895e1433-2a0a-490e-bbc1-6de3b796e706\" class=\"sk-toggleable__label sk-toggleable__label-arrow\">StandardScaler</label><div class=\"sk-toggleable__content\"><pre>StandardScaler()</pre></div></div></div></div></div></div></div></div><div class=\"sk-parallel-item\"><div class=\"sk-item\"><div class=\"sk-label-container\"><div class=\"sk-label sk-toggleable\"><input class=\"sk-toggleable__control sk-hidden--visually\" id=\"669dd12c-c3c1-47f4-bcbd-babf42d48068\" type=\"checkbox\" ><label for=\"669dd12c-c3c1-47f4-bcbd-babf42d48068\" class=\"sk-toggleable__label sk-toggleable__label-arrow\">cat</label><div class=\"sk-toggleable__content\"><pre>[&#x27;SEX&#x27;, &#x27;MARRIAGE&#x27;, &#x27;EDUCATION&#x27;]</pre></div></div></div><div class=\"sk-serial\"><div class=\"sk-item\"><div class=\"sk-serial\"><div class=\"sk-item\"><div class=\"sk-estimator sk-toggleable\"><input class=\"sk-toggleable__control sk-hidden--visually\" id=\"bc858227-a50a-47d1-9a52-7aae18c0df3e\" type=\"checkbox\" ><label for=\"bc858227-a50a-47d1-9a52-7aae18c0df3e\" class=\"sk-toggleable__label sk-toggleable__label-arrow\">SimpleImputer</label><div class=\"sk-toggleable__content\"><pre>SimpleImputer(strategy=&#x27;most_frequent&#x27;)</pre></div></div></div><div class=\"sk-item\"><div class=\"sk-estimator sk-toggleable\"><input class=\"sk-toggleable__control sk-hidden--visually\" id=\"741b9160-ab25-43a3-8430-506d5ae4de28\" type=\"checkbox\" ><label for=\"741b9160-ab25-43a3-8430-506d5ae4de28\" class=\"sk-toggleable__label sk-toggleable__label-arrow\">OneHotEncoder</label><div class=\"sk-toggleable__content\"><pre>OneHotEncoder(drop=&#x27;if_binary&#x27;, sparse=False)</pre></div></div></div></div></div></div></div></div></div></div><div class=\"sk-item\"><div class=\"sk-estimator sk-toggleable\"><input class=\"sk-toggleable__control sk-hidden--visually\" id=\"98348353-c0c5-47bd-9100-f65ff3cbd7c9\" type=\"checkbox\" ><label for=\"98348353-c0c5-47bd-9100-f65ff3cbd7c9\" class=\"sk-toggleable__label sk-toggleable__label-arrow\">SVC</label><div class=\"sk-toggleable__content\"><pre>SVC()</pre></div></div></div></div></div></div></div>"
      ],
      "text/plain": [
       "Pipeline(steps=[('preprocessing',\n",
       "                 ColumnTransformer(transformers=[('num',\n",
       "                                                  Pipeline(steps=[('imputer',\n",
       "                                                                   SimpleImputer(strategy='median')),\n",
       "                                                                  ('scaler',\n",
       "                                                                   StandardScaler())]),\n",
       "                                                  ['LIMIT_BAL', 'AGE']),\n",
       "                                                 ('cat',\n",
       "                                                  Pipeline(steps=[('imputer',\n",
       "                                                                   SimpleImputer(strategy='most_frequent')),\n",
       "                                                                  ('cat_encoder',\n",
       "                                                                   OneHotEncoder(drop='if_binary',\n",
       "                                                                                 sparse=False))]),\n",
       "                                                  ['SEX', 'MARRIAGE',\n",
       "                                                   'EDUCATION'])])),\n",
       "                ('svm', SVC())])"
      ]
     },
     "execution_count": 53,
     "metadata": {},
     "output_type": "execute_result"
    }
   ],
   "source": [
    "full_pipeline = Pipeline([\n",
    "    ('preprocessing', preprocess_pipeline),\n",
    "    ('svm', SVC()),\n",
    "])\n",
    "\n",
    "full_pipeline"
   ]
  },
  {
   "cell_type": "code",
   "execution_count": 22,
   "metadata": {
    "colab": {
     "base_uri": "https://localhost:8080/"
    },
    "id": "1DQC8ORYS1cD",
    "outputId": "312d8b24-e30e-44a9-c681-7c3927fbdba0"
   },
   "outputs": [
    {
     "name": "stdout",
     "output_type": "stream",
     "text": [
      "       LIMIT_BAL  SEX  EDUCATION  MARRIAGE  AGE\n",
      "3225       20000    2          3         1   44\n",
      "11815     260000    2          2         2   30\n",
      "7338       20000    1          2         1   39\n",
      "14980      30000    1          2         1   23\n",
      "27167      10000    1          2         1   29\n"
     ]
    },
    {
     "data": {
      "text/plain": [
       "array(['num__LIMIT_BAL', 'num__AGE', 'cat__SEX_2', 'cat__MARRIAGE_0',\n",
       "       'cat__MARRIAGE_1', 'cat__MARRIAGE_2', 'cat__MARRIAGE_3',\n",
       "       'cat__EDUCATION_0', 'cat__EDUCATION_1', 'cat__EDUCATION_2',\n",
       "       'cat__EDUCATION_3', 'cat__EDUCATION_4', 'cat__EDUCATION_5',\n",
       "       'cat__EDUCATION_6'], dtype=object)"
      ]
     },
     "execution_count": 22,
     "metadata": {},
     "output_type": "execute_result"
    }
   ],
   "source": [
    "train_data.head()\n",
    "df_X = train_data.drop(\"default payment next month\", axis=1)\n",
    "df_y = train_data[\"default payment next month\"]\n",
    "print(df_X.head())\n",
    "\n",
    "X_train = preprocess_pipeline.fit_transform(df_X)\n",
    "y_train = df_y.values\n",
    "preprocess_pipeline.get_feature_names_out()"
   ]
  },
  {
   "cell_type": "markdown",
   "metadata": {
    "id": "ERhaEoy6Ys5q"
   },
   "source": [
    "2. \n",
    "  3. $\\color{red}{\\text{fit a RandomForestClassifier classifier}}$"
   ]
  },
  {
   "cell_type": "code",
   "execution_count": 23,
   "metadata": {
    "colab": {
     "base_uri": "https://localhost:8080/",
     "height": 75
    },
    "id": "uIgalC55TgV6",
    "outputId": "69e7cc8c-5ee5-4996-d237-aaccea71b02c"
   },
   "outputs": [
    {
     "data": {
      "text/html": [
       "<style>#sk-e22ba3c2-63c8-450a-8f81-05a18bf22cce {color: black;background-color: white;}#sk-e22ba3c2-63c8-450a-8f81-05a18bf22cce pre{padding: 0;}#sk-e22ba3c2-63c8-450a-8f81-05a18bf22cce div.sk-toggleable {background-color: white;}#sk-e22ba3c2-63c8-450a-8f81-05a18bf22cce label.sk-toggleable__label {cursor: pointer;display: block;width: 100%;margin-bottom: 0;padding: 0.3em;box-sizing: border-box;text-align: center;}#sk-e22ba3c2-63c8-450a-8f81-05a18bf22cce label.sk-toggleable__label-arrow:before {content: \"▸\";float: left;margin-right: 0.25em;color: #696969;}#sk-e22ba3c2-63c8-450a-8f81-05a18bf22cce label.sk-toggleable__label-arrow:hover:before {color: black;}#sk-e22ba3c2-63c8-450a-8f81-05a18bf22cce div.sk-estimator:hover label.sk-toggleable__label-arrow:before {color: black;}#sk-e22ba3c2-63c8-450a-8f81-05a18bf22cce div.sk-toggleable__content {max-height: 0;max-width: 0;overflow: hidden;text-align: left;background-color: #f0f8ff;}#sk-e22ba3c2-63c8-450a-8f81-05a18bf22cce div.sk-toggleable__content pre {margin: 0.2em;color: black;border-radius: 0.25em;background-color: #f0f8ff;}#sk-e22ba3c2-63c8-450a-8f81-05a18bf22cce input.sk-toggleable__control:checked~div.sk-toggleable__content {max-height: 200px;max-width: 100%;overflow: auto;}#sk-e22ba3c2-63c8-450a-8f81-05a18bf22cce input.sk-toggleable__control:checked~label.sk-toggleable__label-arrow:before {content: \"▾\";}#sk-e22ba3c2-63c8-450a-8f81-05a18bf22cce div.sk-estimator input.sk-toggleable__control:checked~label.sk-toggleable__label {background-color: #d4ebff;}#sk-e22ba3c2-63c8-450a-8f81-05a18bf22cce div.sk-label input.sk-toggleable__control:checked~label.sk-toggleable__label {background-color: #d4ebff;}#sk-e22ba3c2-63c8-450a-8f81-05a18bf22cce input.sk-hidden--visually {border: 0;clip: rect(1px 1px 1px 1px);clip: rect(1px, 1px, 1px, 1px);height: 1px;margin: -1px;overflow: hidden;padding: 0;position: absolute;width: 1px;}#sk-e22ba3c2-63c8-450a-8f81-05a18bf22cce div.sk-estimator {font-family: monospace;background-color: #f0f8ff;border: 1px dotted black;border-radius: 0.25em;box-sizing: border-box;margin-bottom: 0.5em;}#sk-e22ba3c2-63c8-450a-8f81-05a18bf22cce div.sk-estimator:hover {background-color: #d4ebff;}#sk-e22ba3c2-63c8-450a-8f81-05a18bf22cce div.sk-parallel-item::after {content: \"\";width: 100%;border-bottom: 1px solid gray;flex-grow: 1;}#sk-e22ba3c2-63c8-450a-8f81-05a18bf22cce div.sk-label:hover label.sk-toggleable__label {background-color: #d4ebff;}#sk-e22ba3c2-63c8-450a-8f81-05a18bf22cce div.sk-serial::before {content: \"\";position: absolute;border-left: 1px solid gray;box-sizing: border-box;top: 2em;bottom: 0;left: 50%;}#sk-e22ba3c2-63c8-450a-8f81-05a18bf22cce div.sk-serial {display: flex;flex-direction: column;align-items: center;background-color: white;padding-right: 0.2em;padding-left: 0.2em;}#sk-e22ba3c2-63c8-450a-8f81-05a18bf22cce div.sk-item {z-index: 1;}#sk-e22ba3c2-63c8-450a-8f81-05a18bf22cce div.sk-parallel {display: flex;align-items: stretch;justify-content: center;background-color: white;}#sk-e22ba3c2-63c8-450a-8f81-05a18bf22cce div.sk-parallel::before {content: \"\";position: absolute;border-left: 1px solid gray;box-sizing: border-box;top: 2em;bottom: 0;left: 50%;}#sk-e22ba3c2-63c8-450a-8f81-05a18bf22cce div.sk-parallel-item {display: flex;flex-direction: column;position: relative;background-color: white;}#sk-e22ba3c2-63c8-450a-8f81-05a18bf22cce div.sk-parallel-item:first-child::after {align-self: flex-end;width: 50%;}#sk-e22ba3c2-63c8-450a-8f81-05a18bf22cce div.sk-parallel-item:last-child::after {align-self: flex-start;width: 50%;}#sk-e22ba3c2-63c8-450a-8f81-05a18bf22cce div.sk-parallel-item:only-child::after {width: 0;}#sk-e22ba3c2-63c8-450a-8f81-05a18bf22cce div.sk-dashed-wrapped {border: 1px dashed gray;margin: 0 0.4em 0.5em 0.4em;box-sizing: border-box;padding-bottom: 0.4em;background-color: white;position: relative;}#sk-e22ba3c2-63c8-450a-8f81-05a18bf22cce div.sk-label label {font-family: monospace;font-weight: bold;background-color: white;display: inline-block;line-height: 1.2em;}#sk-e22ba3c2-63c8-450a-8f81-05a18bf22cce div.sk-label-container {position: relative;z-index: 2;text-align: center;}#sk-e22ba3c2-63c8-450a-8f81-05a18bf22cce div.sk-container {/* jupyter's `normalize.less` sets `[hidden] { display: none; }` but bootstrap.min.css set `[hidden] { display: none !important; }` so we also need the `!important` here to be able to override the default hidden behavior on the sphinx rendered scikit-learn.org. See: https://github.com/scikit-learn/scikit-learn/issues/21755 */display: inline-block !important;position: relative;}#sk-e22ba3c2-63c8-450a-8f81-05a18bf22cce div.sk-text-repr-fallback {display: none;}</style><div id=\"sk-e22ba3c2-63c8-450a-8f81-05a18bf22cce\" class=\"sk-top-container\"><div class=\"sk-text-repr-fallback\"><pre>RandomForestClassifier(random_state=42)</pre><b>Please rerun this cell to show the HTML repr or trust the notebook.</b></div><div class=\"sk-container\" hidden><div class=\"sk-item\"><div class=\"sk-estimator sk-toggleable\"><input class=\"sk-toggleable__control sk-hidden--visually\" id=\"05ee5c47-46c6-46a7-b1b4-19b18b574bb2\" type=\"checkbox\" checked><label for=\"05ee5c47-46c6-46a7-b1b4-19b18b574bb2\" class=\"sk-toggleable__label sk-toggleable__label-arrow\">RandomForestClassifier</label><div class=\"sk-toggleable__content\"><pre>RandomForestClassifier(random_state=42)</pre></div></div></div></div></div>"
      ],
      "text/plain": [
       "RandomForestClassifier(random_state=42)"
      ]
     },
     "execution_count": 23,
     "metadata": {},
     "output_type": "execute_result"
    }
   ],
   "source": [
    "from sklearn.ensemble import RandomForestClassifier\n",
    "forest_clf = RandomForestClassifier(n_estimators=100, random_state=42)\n",
    "forest_clf.fit(X_train, y_train)"
   ]
  },
  {
   "cell_type": "code",
   "execution_count": 31,
   "metadata": {
    "colab": {
     "base_uri": "https://localhost:8080/"
    },
    "id": "mU2gKfp-TlvO",
    "outputId": "454bae48-ddeb-4141-9dd4-0b5820c6fa7d"
   },
   "outputs": [
    {
     "data": {
      "text/plain": [
       "0.7331666666666666"
      ]
     },
     "execution_count": 31,
     "metadata": {},
     "output_type": "execute_result"
    }
   ],
   "source": [
    "from sklearn.metrics import accuracy_score, balanced_accuracy_score\n",
    "y_test = test_data[\"default payment next month\"]\n",
    "X_test = preprocess_pipeline.transform(test_data)\n",
    "y_pred = forest_clf.predict(X_test)\n",
    "accuracy_score(test_data[\"default payment next month\"], y_pred)"
   ]
  },
  {
   "cell_type": "code",
   "execution_count": 32,
   "metadata": {
    "colab": {
     "base_uri": "https://localhost:8080/"
    },
    "id": "LKgHZj3rTuZg",
    "outputId": "6b3ac9cd-c548-4e5e-a0df-06eb20869ce9"
   },
   "outputs": [
    {
     "data": {
      "text/plain": [
       "0.5258"
      ]
     },
     "execution_count": 32,
     "metadata": {},
     "output_type": "execute_result"
    }
   ],
   "source": [
    "balanced_accuracy_score(test_data[\"default payment next month\"], y_pred).round(4)"
   ]
  },
  {
   "cell_type": "code",
   "execution_count": 33,
   "metadata": {
    "colab": {
     "base_uri": "https://localhost:8080/"
    },
    "id": "OgTebtPYlY8G",
    "outputId": "31b9ca04-9d19-4364-f897-930baf213a50"
   },
   "outputs": [
    {
     "name": "stdout",
     "output_type": "stream",
     "text": [
      "[[4191  512]\n",
      " [1089  208]]\n"
     ]
    }
   ],
   "source": [
    "from sklearn.metrics import confusion_matrix\n",
    "cm = confusion_matrix(y_test, y_pred)\n",
    "print(cm)"
   ]
  },
  {
   "cell_type": "code",
   "execution_count": 34,
   "metadata": {
    "colab": {
     "base_uri": "https://localhost:8080/",
     "height": 279
    },
    "id": "I4q6sACCmFGC",
    "outputId": "b9534040-487f-4343-c6c8-1880db8ed469"
   },
   "outputs": [
    {
     "data": {
      "image/png": "[encoded data removed]",
      "text/plain": [
       "<Figure size 432x288 with 2 Axes>"
      ]
     },
     "metadata": {
      "needs_background": "light"
     },
     "output_type": "display_data"
    }
   ],
   "source": [
    "import matplotlib\n",
    "from sklearn.metrics import ConfusionMatrixDisplay\n",
    "#display confusion matrix\n",
    "ConfusionMatrixDisplay.from_predictions(y_test, y_pred);"
   ]
  },
  {
   "cell_type": "code",
   "execution_count": 35,
   "metadata": {
    "colab": {
     "base_uri": "https://localhost:8080/"
    },
    "id": "YnN-UA7mmthf",
    "outputId": "dccba9e0-49f1-4e7c-d788-101df4171175"
   },
   "outputs": [
    {
     "name": "stdout",
     "output_type": "stream",
     "text": [
      "              precision    recall  f1-score   support\n",
      "\n",
      "           0       0.79      0.89      0.84      4703\n",
      "           1       0.29      0.16      0.21      1297\n",
      "\n",
      "    accuracy                           0.73      6000\n",
      "   macro avg       0.54      0.53      0.52      6000\n",
      "weighted avg       0.68      0.73      0.70      6000\n",
      "\n"
     ]
    }
   ],
   "source": [
    "from sklearn.metrics import classification_report\n",
    "#classification_report() gives class by class precision, recall, and f-measure, along with the averages over all the classes\n",
    "print(classification_report(y_test, y_pred))"
   ]
  },
  {
   "cell_type": "code",
   "execution_count": 36,
   "metadata": {
    "colab": {
     "base_uri": "https://localhost:8080/",
     "height": 279
    },
    "id": "07tnciRInKXI",
    "outputId": "a1c7baca-eb92-40cc-d1ff-1f56612c5a08"
   },
   "outputs": [
    {
     "data": {
      "image/png": "[encoded data removed]",
      "text/plain": [
       "<Figure size 432x288 with 1 Axes>"
      ]
     },
     "metadata": {
      "needs_background": "light"
     },
     "output_type": "display_data"
    }
   ],
   "source": [
    "from sklearn.metrics import RocCurveDisplay\n",
    "#ROC Curve\n",
    "RocCurveDisplay.from_estimator(forest_clf, X_test, y_test);"
   ]
  },
  {
   "cell_type": "code",
   "execution_count": 37,
   "metadata": {
    "colab": {
     "base_uri": "https://localhost:8080/"
    },
    "id": "AYv77RvzVpj_",
    "outputId": "2dbb6e0e-13cf-430d-877c-ea6752faf53e"
   },
   "outputs": [
    {
     "data": {
      "text/plain": [
       "0.524"
      ]
     },
     "execution_count": 37,
     "metadata": {},
     "output_type": "execute_result"
    }
   ],
   "source": [
    "from sklearn.model_selection import cross_val_score\n",
    "#cross validation for more reliable estimate of how good our model is on new data\n",
    "forest_scores = cross_val_score(forest_clf, X_train, y_train, cv=10, scoring='balanced_accuracy')\n",
    "forest_scores.mean().round(3)"
   ]
  },
  {
   "cell_type": "code",
   "execution_count": 57,
   "metadata": {
    "colab": {
     "base_uri": "https://localhost:8080/"
    },
    "id": "inuH2Me2Vzqe",
    "outputId": "5b151c70-c98a-4440-9991-d752d0ba14dd"
   },
   "outputs": [
    {
     "name": "stderr",
     "output_type": "stream",
     "text": [
      "/usr/local/lib/python3.7/dist-packages/sklearn/linear_model/_logistic.py:818: ConvergenceWarning: lbfgs failed to converge (status=1):\n",
      "STOP: TOTAL NO. of ITERATIONS REACHED LIMIT.\n",
      "\n",
      "Increase the number of iterations (max_iter) or scale the data as shown in:\n",
      "    https://scikit-learn.org/stable/modules/preprocessing.html\n",
      "Please also refer to the documentation for alternative solver options:\n",
      "    https://scikit-learn.org/stable/modules/linear_model.html#logistic-regression\n",
      "  extra_warning_msg=_LOGISTIC_SOLVER_CONVERGENCE_MSG,\n",
      "/usr/local/lib/python3.7/dist-packages/sklearn/linear_model/_logistic.py:818: ConvergenceWarning: lbfgs failed to converge (status=1):\n",
      "STOP: TOTAL NO. of ITERATIONS REACHED LIMIT.\n",
      "\n",
      "Increase the number of iterations (max_iter) or scale the data as shown in:\n",
      "    https://scikit-learn.org/stable/modules/preprocessing.html\n",
      "Please also refer to the documentation for alternative solver options:\n",
      "    https://scikit-learn.org/stable/modules/linear_model.html#logistic-regression\n",
      "  extra_warning_msg=_LOGISTIC_SOLVER_CONVERGENCE_MSG,\n",
      "/usr/local/lib/python3.7/dist-packages/sklearn/linear_model/_logistic.py:818: ConvergenceWarning: lbfgs failed to converge (status=1):\n",
      "STOP: TOTAL NO. of ITERATIONS REACHED LIMIT.\n",
      "\n",
      "Increase the number of iterations (max_iter) or scale the data as shown in:\n",
      "    https://scikit-learn.org/stable/modules/preprocessing.html\n",
      "Please also refer to the documentation for alternative solver options:\n",
      "    https://scikit-learn.org/stable/modules/linear_model.html#logistic-regression\n",
      "  extra_warning_msg=_LOGISTIC_SOLVER_CONVERGENCE_MSG,\n",
      "/usr/local/lib/python3.7/dist-packages/sklearn/linear_model/_logistic.py:818: ConvergenceWarning: lbfgs failed to converge (status=1):\n",
      "STOP: TOTAL NO. of ITERATIONS REACHED LIMIT.\n",
      "\n",
      "Increase the number of iterations (max_iter) or scale the data as shown in:\n",
      "    https://scikit-learn.org/stable/modules/preprocessing.html\n",
      "Please also refer to the documentation for alternative solver options:\n",
      "    https://scikit-learn.org/stable/modules/linear_model.html#logistic-regression\n",
      "  extra_warning_msg=_LOGISTIC_SOLVER_CONVERGENCE_MSG,\n",
      "/usr/local/lib/python3.7/dist-packages/sklearn/linear_model/_logistic.py:818: ConvergenceWarning: lbfgs failed to converge (status=1):\n",
      "STOP: TOTAL NO. of ITERATIONS REACHED LIMIT.\n",
      "\n",
      "Increase the number of iterations (max_iter) or scale the data as shown in:\n",
      "    https://scikit-learn.org/stable/modules/preprocessing.html\n",
      "Please also refer to the documentation for alternative solver options:\n",
      "    https://scikit-learn.org/stable/modules/linear_model.html#logistic-regression\n",
      "  extra_warning_msg=_LOGISTIC_SOLVER_CONVERGENCE_MSG,\n",
      "/usr/local/lib/python3.7/dist-packages/sklearn/linear_model/_logistic.py:818: ConvergenceWarning: lbfgs failed to converge (status=1):\n",
      "STOP: TOTAL NO. of ITERATIONS REACHED LIMIT.\n",
      "\n",
      "Increase the number of iterations (max_iter) or scale the data as shown in:\n",
      "    https://scikit-learn.org/stable/modules/preprocessing.html\n",
      "Please also refer to the documentation for alternative solver options:\n",
      "    https://scikit-learn.org/stable/modules/linear_model.html#logistic-regression\n",
      "  extra_warning_msg=_LOGISTIC_SOLVER_CONVERGENCE_MSG,\n",
      "/usr/local/lib/python3.7/dist-packages/sklearn/linear_model/_logistic.py:818: ConvergenceWarning: lbfgs failed to converge (status=1):\n",
      "STOP: TOTAL NO. of ITERATIONS REACHED LIMIT.\n",
      "\n",
      "Increase the number of iterations (max_iter) or scale the data as shown in:\n",
      "    https://scikit-learn.org/stable/modules/preprocessing.html\n",
      "Please also refer to the documentation for alternative solver options:\n",
      "    https://scikit-learn.org/stable/modules/linear_model.html#logistic-regression\n",
      "  extra_warning_msg=_LOGISTIC_SOLVER_CONVERGENCE_MSG,\n",
      "/usr/local/lib/python3.7/dist-packages/sklearn/linear_model/_logistic.py:818: ConvergenceWarning: lbfgs failed to converge (status=1):\n",
      "STOP: TOTAL NO. of ITERATIONS REACHED LIMIT.\n",
      "\n",
      "Increase the number of iterations (max_iter) or scale the data as shown in:\n",
      "    https://scikit-learn.org/stable/modules/preprocessing.html\n",
      "Please also refer to the documentation for alternative solver options:\n",
      "    https://scikit-learn.org/stable/modules/linear_model.html#logistic-regression\n",
      "  extra_warning_msg=_LOGISTIC_SOLVER_CONVERGENCE_MSG,\n",
      "/usr/local/lib/python3.7/dist-packages/sklearn/linear_model/_logistic.py:818: ConvergenceWarning: lbfgs failed to converge (status=1):\n",
      "STOP: TOTAL NO. of ITERATIONS REACHED LIMIT.\n",
      "\n",
      "Increase the number of iterations (max_iter) or scale the data as shown in:\n",
      "    https://scikit-learn.org/stable/modules/preprocessing.html\n",
      "Please also refer to the documentation for alternative solver options:\n",
      "    https://scikit-learn.org/stable/modules/linear_model.html#logistic-regression\n",
      "  extra_warning_msg=_LOGISTIC_SOLVER_CONVERGENCE_MSG,\n"
     ]
    },
    {
     "data": {
      "text/plain": [
       "0.5"
      ]
     },
     "execution_count": 57,
     "metadata": {},
     "output_type": "execute_result"
    }
   ],
   "source": [
    "from sklearn.linear_model import LogisticRegression\n",
    "from sklearn.model_selection import cross_val_score\n",
    "from sklearn.pipeline import make_pipeline\n",
    "#using a pipeline to make the preprocessing, training, and testing streamlined\n",
    "lr_pipe = make_pipeline(preprocess_pipeline, LogisticRegression())\n",
    "# we have to use data frames here because the preprocessing step expects them.\n",
    "lr_scores = cross_val_score(lr_pipe, df_X, df_y, cv=10, scoring='balanced_accuracy')\n",
    "lr_scores.mean().round(3)"
   ]
  },
  {
   "cell_type": "code",
   "execution_count": 41,
   "metadata": {
    "colab": {
     "base_uri": "https://localhost:8080/"
    },
    "id": "HW3JuUMpLW0f",
    "outputId": "4b242934-9c60-45c6-8930-07d7a20a39dc"
   },
   "outputs": [
    {
     "data": {
      "text/plain": [
       "0.52"
      ]
     },
     "execution_count": 41,
     "metadata": {},
     "output_type": "execute_result"
    }
   ],
   "source": [
    "from sklearn.neighbors import KNeighborsClassifier\n",
    "#replace with knn \n",
    "knn_pipe = make_pipeline(preprocess_pipeline, KNeighborsClassifier())\n",
    "knn_scores = cross_val_score(knn_pipe, df_X, df_y, cv=10, scoring='balanced_accuracy')\n",
    "knn_scores.mean().round(2)"
   ]
  },
  {
   "cell_type": "code",
   "execution_count": 43,
   "metadata": {
    "colab": {
     "base_uri": "https://localhost:8080/"
    },
    "id": "qvnX5UFWovny",
    "outputId": "a6619081-d1e8-423e-b7a4-ecbffaa321a4"
   },
   "outputs": [
    {
     "data": {
      "text/plain": [
       "0.5"
      ]
     },
     "execution_count": 43,
     "metadata": {},
     "output_type": "execute_result"
    }
   ],
   "source": [
    "from sklearn.svm import SVC\n",
    "#replace with SVC\n",
    "svc_pipe = make_pipeline(preprocess_pipeline, SVC(gamma=\"auto\"))\n",
    "svc_scores = cross_val_score(svc_pipe, df_X, df_y, cv=10, scoring='balanced_accuracy')\n",
    "svc_scores.mean().round(2)"
   ]
  },
  {
   "cell_type": "code",
   "execution_count": 44,
   "metadata": {
    "colab": {
     "base_uri": "https://localhost:8080/"
    },
    "id": "k_P7vROHpJvq",
    "outputId": "09c090fd-9ec5-40d2-8b2c-b894d11ca0b1"
   },
   "outputs": [
    {
     "data": {
      "text/plain": [
       "0.52"
      ]
     },
     "execution_count": 44,
     "metadata": {},
     "output_type": "execute_result"
    }
   ],
   "source": [
    "from sklearn.ensemble import RandomForestClassifier\n",
    "#replace with randomforest\n",
    "rf_pipe = make_pipeline(preprocess_pipeline, RandomForestClassifier(n_estimators=100, random_state=42))\n",
    "rf_scores = cross_val_score(rf_pipe, df_X, df_y, cv=10, scoring='balanced_accuracy')\n",
    "rf_scores.mean().round(2)"
   ]
  },
  {
   "cell_type": "markdown",
   "metadata": {
    "id": "kbtpRAsYY99D"
   },
   "source": [
    "3. $\\color{red}{\\text{Grid Search(1st)}}$"
   ]
  },
  {
   "cell_type": "code",
   "execution_count": 45,
   "metadata": {
    "colab": {
     "base_uri": "https://localhost:8080/",
     "height": 357
    },
    "id": "uNfmZHMiDBIz",
    "outputId": "03120ced-34ca-4f57-cac2-b75a10c9f996"
   },
   "outputs": [
    {
     "data": {
      "text/html": [
       "\n",
       "  <div id=\"df-1bebeb9f-f438-4a70-b42e-f8ae8d42b54c\">\n",
       "    <div class=\"colab-df-container\">\n",
       "      <div>\n",
       "<style scoped>\n",
       "    .dataframe tbody tr th:only-of-type {\n",
       "        vertical-align: middle;\n",
       "    }\n",
       "\n",
       "    .dataframe tbody tr th {\n",
       "        vertical-align: top;\n",
       "    }\n",
       "\n",
       "    .dataframe thead th {\n",
       "        text-align: right;\n",
       "    }\n",
       "</style>\n",
       "<table border=\"1\" class=\"dataframe\">\n",
       "  <thead>\n",
       "    <tr style=\"text-align: right;\">\n",
       "      <th></th>\n",
       "      <th>mean_fit_time</th>\n",
       "      <th>std_fit_time</th>\n",
       "      <th>mean_score_time</th>\n",
       "      <th>std_score_time</th>\n",
       "      <th>param_random_forest__max_depth</th>\n",
       "      <th>param_random_forest__max_features</th>\n",
       "      <th>param_random_forest__min_samples_leaf</th>\n",
       "      <th>params</th>\n",
       "      <th>split0_test_score</th>\n",
       "      <th>split1_test_score</th>\n",
       "      <th>split2_test_score</th>\n",
       "      <th>mean_test_score</th>\n",
       "      <th>std_test_score</th>\n",
       "      <th>rank_test_score</th>\n",
       "    </tr>\n",
       "  </thead>\n",
       "  <tbody>\n",
       "    <tr>\n",
       "      <th>24</th>\n",
       "      <td>1.643667</td>\n",
       "      <td>0.023560</td>\n",
       "      <td>0.104825</td>\n",
       "      <td>0.000377</td>\n",
       "      <td>10</td>\n",
       "      <td>None</td>\n",
       "      <td>2</td>\n",
       "      <td>{'random_forest__max_depth': 10, 'random_fores...</td>\n",
       "      <td>0.505938</td>\n",
       "      <td>0.505164</td>\n",
       "      <td>0.504567</td>\n",
       "      <td>0.505223</td>\n",
       "      <td>0.000561</td>\n",
       "      <td>1</td>\n",
       "    </tr>\n",
       "    <tr>\n",
       "      <th>25</th>\n",
       "      <td>1.611198</td>\n",
       "      <td>0.027271</td>\n",
       "      <td>0.106284</td>\n",
       "      <td>0.001313</td>\n",
       "      <td>10</td>\n",
       "      <td>None</td>\n",
       "      <td>5</td>\n",
       "      <td>{'random_forest__max_depth': 10, 'random_fores...</td>\n",
       "      <td>0.504614</td>\n",
       "      <td>0.506489</td>\n",
       "      <td>0.503564</td>\n",
       "      <td>0.504889</td>\n",
       "      <td>0.001210</td>\n",
       "      <td>2</td>\n",
       "    </tr>\n",
       "    <tr>\n",
       "      <th>26</th>\n",
       "      <td>1.594998</td>\n",
       "      <td>0.022523</td>\n",
       "      <td>0.105262</td>\n",
       "      <td>0.000078</td>\n",
       "      <td>10</td>\n",
       "      <td>None</td>\n",
       "      <td>10</td>\n",
       "      <td>{'random_forest__max_depth': 10, 'random_fores...</td>\n",
       "      <td>0.502447</td>\n",
       "      <td>0.505128</td>\n",
       "      <td>0.504731</td>\n",
       "      <td>0.504102</td>\n",
       "      <td>0.001181</td>\n",
       "      <td>3</td>\n",
       "    </tr>\n",
       "    <tr>\n",
       "      <th>21</th>\n",
       "      <td>0.643918</td>\n",
       "      <td>0.009719</td>\n",
       "      <td>0.102781</td>\n",
       "      <td>0.004117</td>\n",
       "      <td>10</td>\n",
       "      <td>log2</td>\n",
       "      <td>2</td>\n",
       "      <td>{'random_forest__max_depth': 10, 'random_fores...</td>\n",
       "      <td>0.501042</td>\n",
       "      <td>0.500840</td>\n",
       "      <td>0.500881</td>\n",
       "      <td>0.500921</td>\n",
       "      <td>0.000087</td>\n",
       "      <td>4</td>\n",
       "    </tr>\n",
       "    <tr>\n",
       "      <th>18</th>\n",
       "      <td>0.649866</td>\n",
       "      <td>0.007664</td>\n",
       "      <td>0.099245</td>\n",
       "      <td>0.000831</td>\n",
       "      <td>10</td>\n",
       "      <td>sqrt</td>\n",
       "      <td>2</td>\n",
       "      <td>{'random_forest__max_depth': 10, 'random_fores...</td>\n",
       "      <td>0.501042</td>\n",
       "      <td>0.500840</td>\n",
       "      <td>0.500881</td>\n",
       "      <td>0.500921</td>\n",
       "      <td>0.000087</td>\n",
       "      <td>4</td>\n",
       "    </tr>\n",
       "  </tbody>\n",
       "</table>\n",
       "</div>\n",
       "      <button class=\"colab-df-convert\" onclick=\"convertToInteractive('df-1bebeb9f-f438-4a70-b42e-f8ae8d42b54c')\"\n",
       "              title=\"Convert this dataframe to an interactive table.\"\n",
       "              style=\"display:none;\">\n",
       "        \n",
       "  <svg xmlns=\"http://www.w3.org/2000/svg\" height=\"24px\"viewBox=\"0 0 24 24\"\n",
       "       width=\"24px\">\n",
       "    <path d=\"M0 0h24v24H0V0z\" fill=\"none\"/>\n",
       "    <path d=\"M18.56 5.44l.94 2.06.94-2.06 2.06-.94-2.06-.94-.94-2.06-.94 2.06-2.06.94zm-11 1L8.5 8.5l.94-2.06 2.06-.94-2.06-.94L8.5 2.5l-.94 2.06-2.06.94zm10 10l.94 2.06.94-2.06 2.06-.94-2.06-.94-.94-2.06-.94 2.06-2.06.94z\"/><path d=\"M17.41 7.96l-1.37-1.37c-.4-.4-.92-.59-1.43-.59-.52 0-1.04.2-1.43.59L10.3 9.45l-7.72 7.72c-.78.78-.78 2.05 0 2.83L4 21.41c.39.39.9.59 1.41.59.51 0 1.02-.2 1.41-.59l7.78-7.78 2.81-2.81c.8-.78.8-2.07 0-2.86zM5.41 20L4 18.59l7.72-7.72 1.47 1.35L5.41 20z\"/>\n",
       "  </svg>\n",
       "      </button>\n",
       "      \n",
       "  <style>\n",
       "    .colab-df-container {\n",
       "      display:flex;\n",
       "      flex-wrap:wrap;\n",
       "      gap: 12px;\n",
       "    }\n",
       "\n",
       "    .colab-df-convert {\n",
       "      background-color: #E8F0FE;\n",
       "      border: none;\n",
       "      border-radius: 50%;\n",
       "      cursor: pointer;\n",
       "      display: none;\n",
       "      fill: #1967D2;\n",
       "      height: 32px;\n",
       "      padding: 0 0 0 0;\n",
       "      width: 32px;\n",
       "    }\n",
       "\n",
       "    .colab-df-convert:hover {\n",
       "      background-color: #E2EBFA;\n",
       "      box-shadow: 0px 1px 2px rgba(60, 64, 67, 0.3), 0px 1px 3px 1px rgba(60, 64, 67, 0.15);\n",
       "      fill: #174EA6;\n",
       "    }\n",
       "\n",
       "    [theme=dark] .colab-df-convert {\n",
       "      background-color: #3B4455;\n",
       "      fill: #D2E3FC;\n",
       "    }\n",
       "\n",
       "    [theme=dark] .colab-df-convert:hover {\n",
       "      background-color: #434B5C;\n",
       "      box-shadow: 0px 1px 3px 1px rgba(0, 0, 0, 0.15);\n",
       "      filter: drop-shadow(0px 1px 2px rgba(0, 0, 0, 0.3));\n",
       "      fill: #FFFFFF;\n",
       "    }\n",
       "  </style>\n",
       "\n",
       "      <script>\n",
       "        const buttonEl =\n",
       "          document.querySelector('#df-1bebeb9f-f438-4a70-b42e-f8ae8d42b54c button.colab-df-convert');\n",
       "        buttonEl.style.display =\n",
       "          google.colab.kernel.accessAllowed ? 'block' : 'none';\n",
       "\n",
       "        async function convertToInteractive(key) {\n",
       "          const element = document.querySelector('#df-1bebeb9f-f438-4a70-b42e-f8ae8d42b54c');\n",
       "          const dataTable =\n",
       "            await google.colab.kernel.invokeFunction('convertToInteractive',\n",
       "                                                     [key], {});\n",
       "          if (!dataTable) return;\n",
       "\n",
       "          const docLinkHtml = 'Like what you see? Visit the ' +\n",
       "            '<a target=\"_blank\" href=https://colab.research.google.com/notebooks/data_table.ipynb>data table notebook</a>'\n",
       "            + ' to learn more about interactive tables.';\n",
       "          element.innerHTML = '';\n",
       "          dataTable['output_type'] = 'display_data';\n",
       "          await google.colab.output.renderOutput(dataTable, element);\n",
       "          const docLink = document.createElement('div');\n",
       "          docLink.innerHTML = docLinkHtml;\n",
       "          element.appendChild(docLink);\n",
       "        }\n",
       "      </script>\n",
       "    </div>\n",
       "  </div>\n",
       "  "
      ],
      "text/plain": [
       "    mean_fit_time  std_fit_time  mean_score_time  std_score_time  \\\n",
       "24       1.643667      0.023560         0.104825        0.000377   \n",
       "25       1.611198      0.027271         0.106284        0.001313   \n",
       "26       1.594998      0.022523         0.105262        0.000078   \n",
       "21       0.643918      0.009719         0.102781        0.004117   \n",
       "18       0.649866      0.007664         0.099245        0.000831   \n",
       "\n",
       "   param_random_forest__max_depth param_random_forest__max_features  \\\n",
       "24                             10                              None   \n",
       "25                             10                              None   \n",
       "26                             10                              None   \n",
       "21                             10                              log2   \n",
       "18                             10                              sqrt   \n",
       "\n",
       "   param_random_forest__min_samples_leaf  \\\n",
       "24                                     2   \n",
       "25                                     5   \n",
       "26                                    10   \n",
       "21                                     2   \n",
       "18                                     2   \n",
       "\n",
       "                                               params  split0_test_score  \\\n",
       "24  {'random_forest__max_depth': 10, 'random_fores...           0.505938   \n",
       "25  {'random_forest__max_depth': 10, 'random_fores...           0.504614   \n",
       "26  {'random_forest__max_depth': 10, 'random_fores...           0.502447   \n",
       "21  {'random_forest__max_depth': 10, 'random_fores...           0.501042   \n",
       "18  {'random_forest__max_depth': 10, 'random_fores...           0.501042   \n",
       "\n",
       "    split1_test_score  split2_test_score  mean_test_score  std_test_score  \\\n",
       "24           0.505164           0.504567         0.505223        0.000561   \n",
       "25           0.506489           0.503564         0.504889        0.001210   \n",
       "26           0.505128           0.504731         0.504102        0.001181   \n",
       "21           0.500840           0.500881         0.500921        0.000087   \n",
       "18           0.500840           0.500881         0.500921        0.000087   \n",
       "\n",
       "    rank_test_score  \n",
       "24                1  \n",
       "25                2  \n",
       "26                3  \n",
       "21                4  \n",
       "18                4  "
      ]
     },
     "execution_count": 45,
     "metadata": {},
     "output_type": "execute_result"
    }
   ],
   "source": [
    "from sklearn.model_selection import GridSearchCV\n",
    "from sklearn.ensemble import RandomForestClassifier\n",
    "\n",
    "full_pipeline = Pipeline([\n",
    "    (\"preprocessing\", preprocess_pipeline),\n",
    "    (\"random_forest\", RandomForestClassifier(n_estimators=100, random_state=42)),\n",
    "])\n",
    "param_grid = [ \n",
    "    {'random_forest__max_depth': [2, 5, 10], \n",
    "    'random_forest__min_samples_leaf': [2, 5, 10], \n",
    "    'random_forest__max_features': [\"sqrt\", \"log2\", None]}, \n",
    "    ]\n",
    "grid_search = GridSearchCV(full_pipeline, param_grid, cv=3, scoring='balanced_accuracy')\n",
    "grid_search.fit(df_X, df_y)\n",
    "\n",
    "grid_search.best_estimator_\n",
    "cv_res = pd.DataFrame(grid_search.cv_results_)\n",
    "cv_res.sort_values(by=\"mean_test_score\", ascending=False, inplace=True)\n",
    "cv_res.head()"
   ]
  },
  {
   "cell_type": "markdown",
   "metadata": {
    "id": "hTX4t8xGZFi1"
   },
   "source": [
    "3. $\\color{red}{\\text{RandomizedSearch(2nd)}}$"
   ]
  },
  {
   "cell_type": "code",
   "execution_count": 46,
   "metadata": {
    "colab": {
     "base_uri": "https://localhost:8080/",
     "height": 357
    },
    "id": "IJzzBpE9L03u",
    "outputId": "985d381e-b437-4fd5-a01f-368a74fd71eb"
   },
   "outputs": [
    {
     "data": {
      "text/html": [
       "\n",
       "  <div id=\"df-3ecbbf1a-c601-4666-abdc-3ab41b6fd62c\">\n",
       "    <div class=\"colab-df-container\">\n",
       "      <div>\n",
       "<style scoped>\n",
       "    .dataframe tbody tr th:only-of-type {\n",
       "        vertical-align: middle;\n",
       "    }\n",
       "\n",
       "    .dataframe tbody tr th {\n",
       "        vertical-align: top;\n",
       "    }\n",
       "\n",
       "    .dataframe thead th {\n",
       "        text-align: right;\n",
       "    }\n",
       "</style>\n",
       "<table border=\"1\" class=\"dataframe\">\n",
       "  <thead>\n",
       "    <tr style=\"text-align: right;\">\n",
       "      <th></th>\n",
       "      <th>mean_fit_time</th>\n",
       "      <th>std_fit_time</th>\n",
       "      <th>mean_score_time</th>\n",
       "      <th>std_score_time</th>\n",
       "      <th>param_random_forest__max_depth</th>\n",
       "      <th>param_random_forest__max_features</th>\n",
       "      <th>param_random_forest__min_samples_leaf</th>\n",
       "      <th>params</th>\n",
       "      <th>split0_test_score</th>\n",
       "      <th>split1_test_score</th>\n",
       "      <th>split2_test_score</th>\n",
       "      <th>mean_test_score</th>\n",
       "      <th>std_test_score</th>\n",
       "      <th>rank_test_score</th>\n",
       "    </tr>\n",
       "  </thead>\n",
       "  <tbody>\n",
       "    <tr>\n",
       "      <th>17</th>\n",
       "      <td>0.808914</td>\n",
       "      <td>0.025875</td>\n",
       "      <td>0.130918</td>\n",
       "      <td>0.001327</td>\n",
       "      <td>91</td>\n",
       "      <td>sqrt</td>\n",
       "      <td>3</td>\n",
       "      <td>{'random_forest__max_depth': 91, 'random_fores...</td>\n",
       "      <td>0.509347</td>\n",
       "      <td>0.504642</td>\n",
       "      <td>0.505201</td>\n",
       "      <td>0.506397</td>\n",
       "      <td>0.002099</td>\n",
       "      <td>1</td>\n",
       "    </tr>\n",
       "    <tr>\n",
       "      <th>15</th>\n",
       "      <td>1.043332</td>\n",
       "      <td>0.245967</td>\n",
       "      <td>0.145043</td>\n",
       "      <td>0.025725</td>\n",
       "      <td>40</td>\n",
       "      <td>log2</td>\n",
       "      <td>5</td>\n",
       "      <td>{'random_forest__max_depth': 40, 'random_fores...</td>\n",
       "      <td>0.504254</td>\n",
       "      <td>0.500998</td>\n",
       "      <td>0.499515</td>\n",
       "      <td>0.501589</td>\n",
       "      <td>0.001979</td>\n",
       "      <td>2</td>\n",
       "    </tr>\n",
       "    <tr>\n",
       "      <th>18</th>\n",
       "      <td>1.393831</td>\n",
       "      <td>0.001146</td>\n",
       "      <td>0.099525</td>\n",
       "      <td>0.000668</td>\n",
       "      <td>85</td>\n",
       "      <td>None</td>\n",
       "      <td>61</td>\n",
       "      <td>{'random_forest__max_depth': 85, 'random_fores...</td>\n",
       "      <td>0.500000</td>\n",
       "      <td>0.501082</td>\n",
       "      <td>0.500000</td>\n",
       "      <td>0.500361</td>\n",
       "      <td>0.000510</td>\n",
       "      <td>3</td>\n",
       "    </tr>\n",
       "    <tr>\n",
       "      <th>19</th>\n",
       "      <td>0.659131</td>\n",
       "      <td>0.006396</td>\n",
       "      <td>0.103039</td>\n",
       "      <td>0.001404</td>\n",
       "      <td>72</td>\n",
       "      <td>sqrt</td>\n",
       "      <td>9</td>\n",
       "      <td>{'random_forest__max_depth': 72, 'random_fores...</td>\n",
       "      <td>0.500000</td>\n",
       "      <td>0.500521</td>\n",
       "      <td>0.500120</td>\n",
       "      <td>0.500214</td>\n",
       "      <td>0.000223</td>\n",
       "      <td>4</td>\n",
       "    </tr>\n",
       "    <tr>\n",
       "      <th>16</th>\n",
       "      <td>0.631322</td>\n",
       "      <td>0.010774</td>\n",
       "      <td>0.098632</td>\n",
       "      <td>0.000779</td>\n",
       "      <td>90</td>\n",
       "      <td>log2</td>\n",
       "      <td>10</td>\n",
       "      <td>{'random_forest__max_depth': 90, 'random_fores...</td>\n",
       "      <td>0.500000</td>\n",
       "      <td>0.500602</td>\n",
       "      <td>0.500000</td>\n",
       "      <td>0.500201</td>\n",
       "      <td>0.000284</td>\n",
       "      <td>5</td>\n",
       "    </tr>\n",
       "  </tbody>\n",
       "</table>\n",
       "</div>\n",
       "      <button class=\"colab-df-convert\" onclick=\"convertToInteractive('df-3ecbbf1a-c601-4666-abdc-3ab41b6fd62c')\"\n",
       "              title=\"Convert this dataframe to an interactive table.\"\n",
       "              style=\"display:none;\">\n",
       "        \n",
       "  <svg xmlns=\"http://www.w3.org/2000/svg\" height=\"24px\"viewBox=\"0 0 24 24\"\n",
       "       width=\"24px\">\n",
       "    <path d=\"M0 0h24v24H0V0z\" fill=\"none\"/>\n",
       "    <path d=\"M18.56 5.44l.94 2.06.94-2.06 2.06-.94-2.06-.94-.94-2.06-.94 2.06-2.06.94zm-11 1L8.5 8.5l.94-2.06 2.06-.94-2.06-.94L8.5 2.5l-.94 2.06-2.06.94zm10 10l.94 2.06.94-2.06 2.06-.94-2.06-.94-.94-2.06-.94 2.06-2.06.94z\"/><path d=\"M17.41 7.96l-1.37-1.37c-.4-.4-.92-.59-1.43-.59-.52 0-1.04.2-1.43.59L10.3 9.45l-7.72 7.72c-.78.78-.78 2.05 0 2.83L4 21.41c.39.39.9.59 1.41.59.51 0 1.02-.2 1.41-.59l7.78-7.78 2.81-2.81c.8-.78.8-2.07 0-2.86zM5.41 20L4 18.59l7.72-7.72 1.47 1.35L5.41 20z\"/>\n",
       "  </svg>\n",
       "      </button>\n",
       "      \n",
       "  <style>\n",
       "    .colab-df-container {\n",
       "      display:flex;\n",
       "      flex-wrap:wrap;\n",
       "      gap: 12px;\n",
       "    }\n",
       "\n",
       "    .colab-df-convert {\n",
       "      background-color: #E8F0FE;\n",
       "      border: none;\n",
       "      border-radius: 50%;\n",
       "      cursor: pointer;\n",
       "      display: none;\n",
       "      fill: #1967D2;\n",
       "      height: 32px;\n",
       "      padding: 0 0 0 0;\n",
       "      width: 32px;\n",
       "    }\n",
       "\n",
       "    .colab-df-convert:hover {\n",
       "      background-color: #E2EBFA;\n",
       "      box-shadow: 0px 1px 2px rgba(60, 64, 67, 0.3), 0px 1px 3px 1px rgba(60, 64, 67, 0.15);\n",
       "      fill: #174EA6;\n",
       "    }\n",
       "\n",
       "    [theme=dark] .colab-df-convert {\n",
       "      background-color: #3B4455;\n",
       "      fill: #D2E3FC;\n",
       "    }\n",
       "\n",
       "    [theme=dark] .colab-df-convert:hover {\n",
       "      background-color: #434B5C;\n",
       "      box-shadow: 0px 1px 3px 1px rgba(0, 0, 0, 0.15);\n",
       "      filter: drop-shadow(0px 1px 2px rgba(0, 0, 0, 0.3));\n",
       "      fill: #FFFFFF;\n",
       "    }\n",
       "  </style>\n",
       "\n",
       "      <script>\n",
       "        const buttonEl =\n",
       "          document.querySelector('#df-3ecbbf1a-c601-4666-abdc-3ab41b6fd62c button.colab-df-convert');\n",
       "        buttonEl.style.display =\n",
       "          google.colab.kernel.accessAllowed ? 'block' : 'none';\n",
       "\n",
       "        async function convertToInteractive(key) {\n",
       "          const element = document.querySelector('#df-3ecbbf1a-c601-4666-abdc-3ab41b6fd62c');\n",
       "          const dataTable =\n",
       "            await google.colab.kernel.invokeFunction('convertToInteractive',\n",
       "                                                     [key], {});\n",
       "          if (!dataTable) return;\n",
       "\n",
       "          const docLinkHtml = 'Like what you see? Visit the ' +\n",
       "            '<a target=\"_blank\" href=https://colab.research.google.com/notebooks/data_table.ipynb>data table notebook</a>'\n",
       "            + ' to learn more about interactive tables.';\n",
       "          element.innerHTML = '';\n",
       "          dataTable['output_type'] = 'display_data';\n",
       "          await google.colab.output.renderOutput(dataTable, element);\n",
       "          const docLink = document.createElement('div');\n",
       "          docLink.innerHTML = docLinkHtml;\n",
       "          element.appendChild(docLink);\n",
       "        }\n",
       "      </script>\n",
       "    </div>\n",
       "  </div>\n",
       "  "
      ],
      "text/plain": [
       "    mean_fit_time  std_fit_time  mean_score_time  std_score_time  \\\n",
       "17       0.808914      0.025875         0.130918        0.001327   \n",
       "15       1.043332      0.245967         0.145043        0.025725   \n",
       "18       1.393831      0.001146         0.099525        0.000668   \n",
       "19       0.659131      0.006396         0.103039        0.001404   \n",
       "16       0.631322      0.010774         0.098632        0.000779   \n",
       "\n",
       "   param_random_forest__max_depth param_random_forest__max_features  \\\n",
       "17                             91                              sqrt   \n",
       "15                             40                              log2   \n",
       "18                             85                              None   \n",
       "19                             72                              sqrt   \n",
       "16                             90                              log2   \n",
       "\n",
       "   param_random_forest__min_samples_leaf  \\\n",
       "17                                     3   \n",
       "15                                     5   \n",
       "18                                    61   \n",
       "19                                     9   \n",
       "16                                    10   \n",
       "\n",
       "                                               params  split0_test_score  \\\n",
       "17  {'random_forest__max_depth': 91, 'random_fores...           0.509347   \n",
       "15  {'random_forest__max_depth': 40, 'random_fores...           0.504254   \n",
       "18  {'random_forest__max_depth': 85, 'random_fores...           0.500000   \n",
       "19  {'random_forest__max_depth': 72, 'random_fores...           0.500000   \n",
       "16  {'random_forest__max_depth': 90, 'random_fores...           0.500000   \n",
       "\n",
       "    split1_test_score  split2_test_score  mean_test_score  std_test_score  \\\n",
       "17           0.504642           0.505201         0.506397        0.002099   \n",
       "15           0.500998           0.499515         0.501589        0.001979   \n",
       "18           0.501082           0.500000         0.500361        0.000510   \n",
       "19           0.500521           0.500120         0.500214        0.000223   \n",
       "16           0.500602           0.500000         0.500201        0.000284   \n",
       "\n",
       "    rank_test_score  \n",
       "17                1  \n",
       "15                2  \n",
       "18                3  \n",
       "19                4  \n",
       "16                5  "
      ]
     },
     "execution_count": 46,
     "metadata": {},
     "output_type": "execute_result"
    }
   ],
   "source": [
    "from sklearn.model_selection import RandomizedSearchCV\n",
    "from sklearn.ensemble import RandomForestClassifier\n",
    "from scipy.stats import randint\n",
    "\n",
    "full_pipeline = Pipeline([\n",
    "    (\"preprocessing\", preprocess_pipeline),\n",
    "    (\"random_forest\", RandomForestClassifier(n_estimators=100, random_state=42)),\n",
    "])\n",
    "param_distribs = [ \n",
    "    {'random_forest__max_depth': randint(2, 100), \n",
    "    'random_forest__min_samples_leaf': randint(2, 100), \n",
    "    'random_forest__max_features': [\"sqrt\", \"log2\", None]}, \n",
    "    ]\n",
    "random_search = RandomizedSearchCV(full_pipeline, param_distribs, n_iter=20, cv=3, \n",
    "                                 scoring='balanced_accuracy', random_state=42)\n",
    "random_search.fit(df_X, df_y)\n",
    "random_search.best_estimator_\n",
    "cv_res = pd.DataFrame(random_search.cv_results_)\n",
    "cv_res.sort_values(by=\"mean_test_score\", ascending=False, inplace=True)\n",
    "cv_res.head()"
   ]
  },
  {
   "cell_type": "markdown",
   "metadata": {
    "id": "dqW_1zs-ZMye"
   },
   "source": [
    "3. $\\color{red}{\\text{Halving Grid Search(3rd)}}$\n",
    "\n"
   ]
  },
  {
   "cell_type": "code",
   "execution_count": null,
   "metadata": {
    "colab": {
     "base_uri": "https://localhost:8080/"
    },
    "id": "s-buvR3yT26l",
    "outputId": "92916dd6-829f-43a9-867a-b6d276c0d065"
   },
   "outputs": [
    {
     "metadata": {
      "tags": null
     },
     "name": "stdout",
     "output_type": "stream",
     "text": [
      "The parameter grid : \n",
      "[{'svm__C': array([1.e-03, 1.e-01, 1.e+01, 1.e+03]), 'svm__gamma': array([1.e-02, 1.e-01, 1.e+00, 1.e+01, 1.e+02])}]\n"
     ]
    }
   ],
   "source": [
    "param_grid = [ \n",
    "    {'svm__C': np.logspace(-3, 3, 4), \n",
    "     'svm__gamma': np.logspace(-2, 2, 5)\n",
    "     }, \n",
    "    ]\n",
    "# Check what's in this parameter grid\n",
    "print('The parameter grid : ')\n",
    "print(param_grid)\n",
    "\n",
    "grid_search = GridSearchCV(full_pipeline, param_grid, cv=3, \n",
    "                                 scoring='balanced_accuracy')\n",
    "grid_search.fit(df_X, df_y)\n",
    "print('\\n\\nThe best parameters are ', grid_search.best_params_)\n",
    "\n",
    "grid_cv_res = pd.DataFrame(grid_search.cv_results_) # convert to DF for convenience\n",
    "grid_cv_res.sort_values(by='mean_test_score', ascending=False, inplace=True)  # sort the data frame\n",
    "# select only the columns that start with 'param_' and the 'column mean_test_score'\n",
    "grid_cv_res.filter(regex = '(^param_|mean_test_score)', axis=1).head()"
   ]
  },
  {
   "cell_type": "code",
   "execution_count": 57,
   "metadata": {
    "colab": {
     "base_uri": "https://localhost:8080/"
    },
    "id": "YL-aQcL8RnIH",
    "outputId": "c769e171-c0ab-4b29-98c6-7bf0eb1ffbdc"
   },
   "outputs": [
    {
     "data": {
      "text/plain": [
       "0.4969057320838799"
      ]
     },
     "execution_count": 57,
     "metadata": {},
     "output_type": "execute_result"
    }
   ],
   "source": [
    "from sklearn.experimental import enable_halving_search_cv\n",
    "from sklearn.model_selection import HalvingGridSearchCV\n",
    "\n",
    "param_grid = [ \n",
    "    {'svm__C': np.logspace(-3, 3, 4), \n",
    "     'svm__gamma': np.logspace(-2, 2, 5)\n",
    "     }, \n",
    "    ]\n",
    "# Check what's in this parameter grid\n",
    "print('The parameter grid : ')\n",
    "print(param_grid)\n",
    "\n",
    "# Change to Halving strategy starting here\n",
    "halving_grid_search = HalvingGridSearchCV(full_pipeline, param_grid, cv=3, \n",
    "                                    min_resources='exhaust', # use all data in the last round, back calculate to determine how much to start with\n",
    "                                    scoring='balanced_accuracy')\n",
    "halving_grid_search.fit(df_X, df_y)\n",
    "print('The best parameters are ', halving_grid_search.best_params_)\n",
    "\n",
    "halving_grid_cv_res = pd.DataFrame(halving_grid_search.cv_results_)  # convert to DF for convenience\n",
    "# In the end, we care about performances in the last iteration (using most data)\n",
    "# So, let's sort by iteration (descending), then by test score (descending)\n",
    "halving_grid_cv_res.sort_values(by=['iter', 'mean_test_score'], ascending=False, inplace=True)\n",
    "# and check the top few rows\n",
    "halving_grid_cv_res.filter(regex = '(iter|^param_|mean_test_score|n_resources)', axis=1).head(6)"
   ]
  },
  {
   "cell_type": "markdown",
   "metadata": {
    "id": "YG10Ek9mMa1d"
   },
   "source": [
    "4. \n",
    "Let's assume that the cost of missing a default (i.e., predicting non-default for a customer who ended up defaulting) is $\\color{red}{\\text{10}}$ times the cost of flagging a non-defaulter as defaulter. Let's define a custom scoring function that we'll use instead of the balanced accuracy.\n"
   ]
  },
  {
   "cell_type": "code",
   "execution_count": 38,
   "metadata": {
    "colab": {
     "base_uri": "https://localhost:8080/",
     "height": 357
    },
    "id": "x1DjEHo4MDwF",
    "outputId": "fb9f5389-3d9c-4393-9974-30e96943a52c"
   },
   "outputs": [
    {
     "data": {
      "text/html": [
       "\n",
       "  <div id=\"df-5f36776f-786a-4c29-85a2-321645ab6ff7\">\n",
       "    <div class=\"colab-df-container\">\n",
       "      <div>\n",
       "<style scoped>\n",
       "    .dataframe tbody tr th:only-of-type {\n",
       "        vertical-align: middle;\n",
       "    }\n",
       "\n",
       "    .dataframe tbody tr th {\n",
       "        vertical-align: top;\n",
       "    }\n",
       "\n",
       "    .dataframe thead th {\n",
       "        text-align: right;\n",
       "    }\n",
       "</style>\n",
       "<table border=\"1\" class=\"dataframe\">\n",
       "  <thead>\n",
       "    <tr style=\"text-align: right;\">\n",
       "      <th></th>\n",
       "      <th>mean_fit_time</th>\n",
       "      <th>std_fit_time</th>\n",
       "      <th>mean_score_time</th>\n",
       "      <th>std_score_time</th>\n",
       "      <th>param_random_forest__max_depth</th>\n",
       "      <th>param_random_forest__max_features</th>\n",
       "      <th>param_random_forest__min_samples_leaf</th>\n",
       "      <th>params</th>\n",
       "      <th>split0_test_score</th>\n",
       "      <th>split1_test_score</th>\n",
       "      <th>split2_test_score</th>\n",
       "      <th>mean_test_score</th>\n",
       "      <th>std_test_score</th>\n",
       "      <th>rank_test_score</th>\n",
       "    </tr>\n",
       "  </thead>\n",
       "  <tbody>\n",
       "    <tr>\n",
       "      <th>24</th>\n",
       "      <td>1.609657</td>\n",
       "      <td>0.014491</td>\n",
       "      <td>0.106360</td>\n",
       "      <td>0.002343</td>\n",
       "      <td>10</td>\n",
       "      <td>None</td>\n",
       "      <td>2</td>\n",
       "      <td>{'random_forest__max_depth': 10, 'random_fores...</td>\n",
       "      <td>-17469.0</td>\n",
       "      <td>-17430.0</td>\n",
       "      <td>-17522.0</td>\n",
       "      <td>-17473.666667</td>\n",
       "      <td>37.703522</td>\n",
       "      <td>1</td>\n",
       "    </tr>\n",
       "    <tr>\n",
       "      <th>25</th>\n",
       "      <td>1.582916</td>\n",
       "      <td>0.024783</td>\n",
       "      <td>0.105399</td>\n",
       "      <td>0.001179</td>\n",
       "      <td>10</td>\n",
       "      <td>None</td>\n",
       "      <td>5</td>\n",
       "      <td>{'random_forest__max_depth': 10, 'random_fores...</td>\n",
       "      <td>-17544.0</td>\n",
       "      <td>-17394.0</td>\n",
       "      <td>-17567.0</td>\n",
       "      <td>-17501.666667</td>\n",
       "      <td>76.708684</td>\n",
       "      <td>2</td>\n",
       "    </tr>\n",
       "    <tr>\n",
       "      <th>26</th>\n",
       "      <td>1.565078</td>\n",
       "      <td>0.020006</td>\n",
       "      <td>0.106069</td>\n",
       "      <td>0.001883</td>\n",
       "      <td>10</td>\n",
       "      <td>None</td>\n",
       "      <td>10</td>\n",
       "      <td>{'random_forest__max_depth': 10, 'random_fores...</td>\n",
       "      <td>-17649.0</td>\n",
       "      <td>-17502.0</td>\n",
       "      <td>-17572.0</td>\n",
       "      <td>-17574.333333</td>\n",
       "      <td>60.035175</td>\n",
       "      <td>3</td>\n",
       "    </tr>\n",
       "    <tr>\n",
       "      <th>21</th>\n",
       "      <td>0.758294</td>\n",
       "      <td>0.075497</td>\n",
       "      <td>0.112188</td>\n",
       "      <td>0.010517</td>\n",
       "      <td>10</td>\n",
       "      <td>log2</td>\n",
       "      <td>2</td>\n",
       "      <td>{'random_forest__max_depth': 10, 'random_fores...</td>\n",
       "      <td>-17712.0</td>\n",
       "      <td>-17731.0</td>\n",
       "      <td>-17737.0</td>\n",
       "      <td>-17726.666667</td>\n",
       "      <td>10.656245</td>\n",
       "      <td>4</td>\n",
       "    </tr>\n",
       "    <tr>\n",
       "      <th>18</th>\n",
       "      <td>0.636388</td>\n",
       "      <td>0.012859</td>\n",
       "      <td>0.099055</td>\n",
       "      <td>0.001162</td>\n",
       "      <td>10</td>\n",
       "      <td>sqrt</td>\n",
       "      <td>2</td>\n",
       "      <td>{'random_forest__max_depth': 10, 'random_fores...</td>\n",
       "      <td>-17712.0</td>\n",
       "      <td>-17731.0</td>\n",
       "      <td>-17737.0</td>\n",
       "      <td>-17726.666667</td>\n",
       "      <td>10.656245</td>\n",
       "      <td>4</td>\n",
       "    </tr>\n",
       "  </tbody>\n",
       "</table>\n",
       "</div>\n",
       "      <button class=\"colab-df-convert\" onclick=\"convertToInteractive('df-5f36776f-786a-4c29-85a2-321645ab6ff7')\"\n",
       "              title=\"Convert this dataframe to an interactive table.\"\n",
       "              style=\"display:none;\">\n",
       "        \n",
       "  <svg xmlns=\"http://www.w3.org/2000/svg\" height=\"24px\"viewBox=\"0 0 24 24\"\n",
       "       width=\"24px\">\n",
       "    <path d=\"M0 0h24v24H0V0z\" fill=\"none\"/>\n",
       "    <path d=\"M18.56 5.44l.94 2.06.94-2.06 2.06-.94-2.06-.94-.94-2.06-.94 2.06-2.06.94zm-11 1L8.5 8.5l.94-2.06 2.06-.94-2.06-.94L8.5 2.5l-.94 2.06-2.06.94zm10 10l.94 2.06.94-2.06 2.06-.94-2.06-.94-.94-2.06-.94 2.06-2.06.94z\"/><path d=\"M17.41 7.96l-1.37-1.37c-.4-.4-.92-.59-1.43-.59-.52 0-1.04.2-1.43.59L10.3 9.45l-7.72 7.72c-.78.78-.78 2.05 0 2.83L4 21.41c.39.39.9.59 1.41.59.51 0 1.02-.2 1.41-.59l7.78-7.78 2.81-2.81c.8-.78.8-2.07 0-2.86zM5.41 20L4 18.59l7.72-7.72 1.47 1.35L5.41 20z\"/>\n",
       "  </svg>\n",
       "      </button>\n",
       "      \n",
       "  <style>\n",
       "    .colab-df-container {\n",
       "      display:flex;\n",
       "      flex-wrap:wrap;\n",
       "      gap: 12px;\n",
       "    }\n",
       "\n",
       "    .colab-df-convert {\n",
       "      background-color: #E8F0FE;\n",
       "      border: none;\n",
       "      border-radius: 50%;\n",
       "      cursor: pointer;\n",
       "      display: none;\n",
       "      fill: #1967D2;\n",
       "      height: 32px;\n",
       "      padding: 0 0 0 0;\n",
       "      width: 32px;\n",
       "    }\n",
       "\n",
       "    .colab-df-convert:hover {\n",
       "      background-color: #E2EBFA;\n",
       "      box-shadow: 0px 1px 2px rgba(60, 64, 67, 0.3), 0px 1px 3px 1px rgba(60, 64, 67, 0.15);\n",
       "      fill: #174EA6;\n",
       "    }\n",
       "\n",
       "    [theme=dark] .colab-df-convert {\n",
       "      background-color: #3B4455;\n",
       "      fill: #D2E3FC;\n",
       "    }\n",
       "\n",
       "    [theme=dark] .colab-df-convert:hover {\n",
       "      background-color: #434B5C;\n",
       "      box-shadow: 0px 1px 3px 1px rgba(0, 0, 0, 0.15);\n",
       "      filter: drop-shadow(0px 1px 2px rgba(0, 0, 0, 0.3));\n",
       "      fill: #FFFFFF;\n",
       "    }\n",
       "  </style>\n",
       "\n",
       "      <script>\n",
       "        const buttonEl =\n",
       "          document.querySelector('#df-5f36776f-786a-4c29-85a2-321645ab6ff7 button.colab-df-convert');\n",
       "        buttonEl.style.display =\n",
       "          google.colab.kernel.accessAllowed ? 'block' : 'none';\n",
       "\n",
       "        async function convertToInteractive(key) {\n",
       "          const element = document.querySelector('#df-5f36776f-786a-4c29-85a2-321645ab6ff7');\n",
       "          const dataTable =\n",
       "            await google.colab.kernel.invokeFunction('convertToInteractive',\n",
       "                                                     [key], {});\n",
       "          if (!dataTable) return;\n",
       "\n",
       "          const docLinkHtml = 'Like what you see? Visit the ' +\n",
       "            '<a target=\"_blank\" href=https://colab.research.google.com/notebooks/data_table.ipynb>data table notebook</a>'\n",
       "            + ' to learn more about interactive tables.';\n",
       "          element.innerHTML = '';\n",
       "          dataTable['output_type'] = 'display_data';\n",
       "          await google.colab.output.renderOutput(dataTable, element);\n",
       "          const docLink = document.createElement('div');\n",
       "          docLink.innerHTML = docLinkHtml;\n",
       "          element.appendChild(docLink);\n",
       "        }\n",
       "      </script>\n",
       "    </div>\n",
       "  </div>\n",
       "  "
      ],
      "text/plain": [
       "    mean_fit_time  std_fit_time  mean_score_time  std_score_time  \\\n",
       "24       1.609657      0.014491         0.106360        0.002343   \n",
       "25       1.582916      0.024783         0.105399        0.001179   \n",
       "26       1.565078      0.020006         0.106069        0.001883   \n",
       "21       0.758294      0.075497         0.112188        0.010517   \n",
       "18       0.636388      0.012859         0.099055        0.001162   \n",
       "\n",
       "   param_random_forest__max_depth param_random_forest__max_features  \\\n",
       "24                             10                              None   \n",
       "25                             10                              None   \n",
       "26                             10                              None   \n",
       "21                             10                              log2   \n",
       "18                             10                              sqrt   \n",
       "\n",
       "   param_random_forest__min_samples_leaf  \\\n",
       "24                                     2   \n",
       "25                                     5   \n",
       "26                                    10   \n",
       "21                                     2   \n",
       "18                                     2   \n",
       "\n",
       "                                               params  split0_test_score  \\\n",
       "24  {'random_forest__max_depth': 10, 'random_fores...           -17469.0   \n",
       "25  {'random_forest__max_depth': 10, 'random_fores...           -17544.0   \n",
       "26  {'random_forest__max_depth': 10, 'random_fores...           -17649.0   \n",
       "21  {'random_forest__max_depth': 10, 'random_fores...           -17712.0   \n",
       "18  {'random_forest__max_depth': 10, 'random_fores...           -17712.0   \n",
       "\n",
       "    split1_test_score  split2_test_score  mean_test_score  std_test_score  \\\n",
       "24           -17430.0           -17522.0    -17473.666667       37.703522   \n",
       "25           -17394.0           -17567.0    -17501.666667       76.708684   \n",
       "26           -17502.0           -17572.0    -17574.333333       60.035175   \n",
       "21           -17731.0           -17737.0    -17726.666667       10.656245   \n",
       "18           -17731.0           -17737.0    -17726.666667       10.656245   \n",
       "\n",
       "    rank_test_score  \n",
       "24                1  \n",
       "25                2  \n",
       "26                3  \n",
       "21                4  \n",
       "18                4  "
      ]
     },
     "execution_count": 38,
     "metadata": {},
     "output_type": "execute_result"
    }
   ],
   "source": [
    "from sklearn.metrics import make_scorer, confusion_matrix\n",
    "def default_cost(y_true, y_pred): \n",
    "  cm = confusion_matrix(y_true, y_pred)\n",
    "  return cm[1,0] * 10 + cm[0,1] * 1\n",
    "\n",
    "cost_scorer = make_scorer(default_cost, greater_is_better=False)\n",
    "\n",
    "forest_costs = cross_val_score(forest_clf, X_train, y_train, cv=3, scoring=cost_scorer)\n",
    "forest_costs.mean()\n",
    "\n",
    "grid_search = GridSearchCV(full_pipeline, param_grid, cv=3, scoring=cost_scorer)\n",
    "grid_search.fit(df_X, df_y)\n",
    "\n",
    "cv_res = pd.DataFrame(grid_search.cv_results_)\n",
    "cv_res.sort_values(by=\"mean_test_score\", ascending=False, inplace=True)\n",
    "cv_res.head()\n"
   ]
  },
  {
   "cell_type": "markdown",
   "metadata": {
    "id": "o1HFQv54ZR8h"
   },
   "source": [
    "\n"
   ]
  },
  {
   "cell_type": "markdown",
   "metadata": {
    "id": "yoNOCxutZaG3"
   },
   "source": []
  }
 ],
 "metadata": {
  "colab": {
   "collapsed_sections": [],
   "provenance": []
  },
  "kernelspec": {
   "display_name": "Python 3 (ipykernel)",
   "language": "python",
   "name": "python3"
  },
  "language_info": {
   "codemirror_mode": {
    "name": "ipython",
    "version": 3
   },
   "file_extension": ".py",
   "mimetype": "text/x-python",
   "name": "python",
   "nbconvert_exporter": "python",
   "pygments_lexer": "ipython3",
   "version": "3.9.12"
  }
 },
 "nbformat": 4,
 "nbformat_minor": 1
}
